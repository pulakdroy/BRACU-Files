{
  "nbformat": 4,
  "nbformat_minor": 0,
  "metadata": {
    "colab": {
      "name": "CSE110 Assignment7 ",
      "provenance": []
    },
    "kernelspec": {
      "name": "python3",
      "display_name": "Python 3"
    },
    "language_info": {
      "name": "python"
    }
  },
  "cells": [
    {
      "cell_type": "code",
      "source": [
        "#Name: Pulak Deb Roy\n",
        "#ID: 21201703\n",
        "#CSE110 Theory Section: 14"
      ],
      "metadata": {
        "id": "RT2LCPZcyYeQ"
      },
      "execution_count": null,
      "outputs": []
    },
    {
      "cell_type": "code",
      "execution_count": 25,
      "metadata": {
        "id": "BNPLA_FDwE5i",
        "colab": {
          "base_uri": "https://localhost:8080/"
        },
        "outputId": "8da1ce0e-0a9b-466c-c025-2db01fe6a088"
      },
      "outputs": [
        {
          "output_type": "stream",
          "name": "stdout",
          "text": [
            "[1, 2, 2, 3, 5, 6, 10, 11, 12, 14, 15, 17, 18, 20, 29]\n"
          ]
        }
      ],
      "source": [
        "#task1\n",
        "my_list= [10, 1, 20, 3, 6, 2, 5, 11, 15, 2, 12, 14, 17, 18, 29]\n",
        "\n",
        "for i in range(len(my_list)-1):\n",
        "  for j in range(len(my_list)-1-i):\n",
        "    if my_list[j] > my_list[j+1]:\n",
        "      my_list[j],my_list[j+1] = my_list[j+1],my_list[j]\n",
        "print(my_list)      "
      ]
    },
    {
      "cell_type": "code",
      "source": [
        "#task2\n",
        "my_list = [10, 1, 20, 3, 6, 2, 5, 11, 15, 2, 12, 14, 17, 18, 29]\n",
        "\n",
        "lis=[]\n",
        "for ind in range(len(my_list)):\n",
        "  ascending = min(my_list)\n",
        "  lis.append(ascending)\n",
        "  my_list.remove(ascending)\n",
        "print(lis)  "
      ],
      "metadata": {
        "colab": {
          "base_uri": "https://localhost:8080/"
        },
        "id": "vai0y4TF6II2",
        "outputId": "32bd724b-7473-4377-b9db-9b5995ad272d"
      },
      "execution_count": 7,
      "outputs": [
        {
          "output_type": "stream",
          "name": "stdout",
          "text": [
            "[1, 2, 2, 3, 5, 6, 10, 11, 12, 14, 15, 17, 18, 20, 29]\n"
          ]
        }
      ]
    },
    {
      "cell_type": "code",
      "source": [
        "#task3\n",
        "my_list = [10, 1, 20, 3, 6, 2, 5, 11, 15, 2, 12, 14, 17, 18, 29]\n",
        "\n",
        "lis=[]\n",
        "for ind in range(len(my_list)):\n",
        "  decending = max(my_list)\n",
        "  lis.append(decending)\n",
        "  my_list.remove(decending)\n",
        "print(lis)  "
      ],
      "metadata": {
        "colab": {
          "base_uri": "https://localhost:8080/"
        },
        "id": "xLfXXRKP6anH",
        "outputId": "0451d149-6de5-4d13-cd50-598b6758edff"
      },
      "execution_count": 4,
      "outputs": [
        {
          "output_type": "stream",
          "name": "stdout",
          "text": [
            "[29, 20, 18, 17, 15, 14, 12, 11, 10, 6, 5, 3, 2, 2, 1]\n"
          ]
        }
      ]
    },
    {
      "cell_type": "code",
      "source": [
        "#task4\n",
        "sitting_list = [10,30,20,70,11,15,22,16,58,100,12,56,70,80]\n",
        "\n",
        "for i in range(len(sitting_list)-2):\n",
        "    for j in range (len(sitting_list)-i-2):\n",
        "        if j%2 !=0 :\n",
        "            if sitting_list[j]< sitting_list[j+2]:\n",
        "                sitting_list[j], sitting_list[j+2]= sitting_list[j+2], sitting_list[j]\n",
        "        else:\n",
        "             if sitting_list[j]> sitting_list[j+2]:\n",
        "                    sitting_list[j], sitting_list[j+2]= sitting_list[j+2], sitting_list[j]\n",
        "\n",
        "print(sitting_list)\n"
      ],
      "metadata": {
        "colab": {
          "base_uri": "https://localhost:8080/"
        },
        "id": "GxBK0OWB6k7m",
        "outputId": "5c8b4343-a6b0-4c90-cdbf-5f2249fd2b0e"
      },
      "execution_count": 11,
      "outputs": [
        {
          "output_type": "stream",
          "name": "stdout",
          "text": [
            "[10, 100, 11, 80, 12, 70, 20, 56, 22, 30, 58, 16, 70, 15]\n"
          ]
        }
      ]
    },
    {
      "cell_type": "code",
      "source": [
        "#task5\n",
        "lst = [ [\"Alan\", 95, 87, 91], [\"Turing\", 92, 90, 83], [\"Elon\", 87, 92, 80], [\"Musk\", 85, 94, 90] ]\n",
        "\n",
        "var = input(\"enter: \")\n",
        "var = var.upper()\n",
        "\n",
        "if var == \"CSE110\":\n",
        "  index_i = 1\n",
        "elif var == \"PHY111\":\n",
        "  index_i = 2\n",
        "else: \n",
        "  index_i = 3\n",
        "\n",
        "for i in range(len(lst)-1):\n",
        "  for j in range(len(lst)-1-i):\n",
        "    if lst[j][s_i] < lst[j+1][s_i]:\n",
        "      x = lst[j]\n",
        "      lst[j] = lst[j+1]\n",
        "      lst[j+1] = x\n",
        "      \n",
        "for z in lst:\n",
        "  print(z[0])      \n",
        "            "
      ],
      "metadata": {
        "colab": {
          "base_uri": "https://localhost:8080/"
        },
        "id": "k-kJy2UEhOCi",
        "outputId": "14c48ce5-5c91-4c7d-8496-71d5f7714876"
      },
      "execution_count": 15,
      "outputs": [
        {
          "output_type": "stream",
          "name": "stdout",
          "text": [
            "enter: mat110\n",
            "Musk\n",
            "Elon\n",
            "Turing\n",
            "Alan\n"
          ]
        }
      ]
    },
    {
      "cell_type": "code",
      "source": [
        "#task6\n",
        "my_list = [4, 2, 3, 1, 6, 5]\n",
        "var = my_list.copy()\n",
        "for i in range(len(my_list)-1):\n",
        "  for j in range(len(my_list)-1-i):\n",
        "    if my_list[j] > my_list[j+1]:\n",
        "      x = my_list[j]\n",
        "\n",
        "      my_list[j] = my_list[j+1]\n",
        "      my_list[j+1] = x\n",
        "print(my_list)\n",
        "counter = 0\n",
        "for index in range(len(my_list)):\n",
        "  if my_list[index]!= var[index]:\n",
        "    counter+=1\n",
        "print(counter)          \n",
        "\n"
      ],
      "metadata": {
        "colab": {
          "base_uri": "https://localhost:8080/"
        },
        "id": "fY90FWOdkplK",
        "outputId": "6800aee1-bc4e-4193-b5c1-0e99ff4f8655"
      },
      "execution_count": 19,
      "outputs": [
        {
          "output_type": "stream",
          "name": "stdout",
          "text": [
            "[1, 2, 3, 4, 5, 6]\n",
            "4\n"
          ]
        }
      ]
    },
    {
      "cell_type": "code",
      "source": [
        "#task7\n",
        "list_one = [1, 2, 1, 4]\n",
        "list_two = [5, 4, 1]\n",
        "\n",
        "var = list_one + list_two\n",
        "for i in range(len(var)-1):\n",
        "  for j in range(len(var)-1-i):\n",
        "    if var[j] > var[j+1]:\n",
        "      x = var[j]\n",
        "      var[j] = var[j+1]\n",
        "      var[j+1] = x\n",
        "\n",
        "if len(var)%2!=0:\n",
        "  a = int(len(var)/2)\n",
        "  median=var[a]\n",
        "else:\n",
        "  b= int(len(var)/2)\n",
        "  avg =(var[b]+var[b-1])/2\n",
        "  median=avg\n",
        "print(\"Sorted list=\",var)\n",
        "print(\"Median=\",median)  \n"
      ],
      "metadata": {
        "colab": {
          "base_uri": "https://localhost:8080/"
        },
        "id": "XIMm4UCVqueM",
        "outputId": "30c84ef9-4d77-4581-e106-8161e6d2624b"
      },
      "execution_count": 20,
      "outputs": [
        {
          "output_type": "stream",
          "name": "stdout",
          "text": [
            "Sorted list= [1, 1, 1, 2, 4, 4, 5]\n",
            "Median= 2\n"
          ]
        }
      ]
    },
    {
      "cell_type": "code",
      "source": [
        "#task8\n",
        "list_one = [-10, 15, 2, 4, -4, 7, -8]\n",
        "\n",
        "x= abs(list_one[0]+list_one[1])\n",
        "sum=0\n",
        "var1=list_one[0]\n",
        "var2=list_one[1]\n",
        "for i in range(0,len(list_one)):\n",
        "  for j in range(1,len(list_one)):\n",
        "    sum =abs(list_one[i]+list_one[j])\n",
        "    if sum < x:\n",
        "      x=sum\n",
        "      var1=list_one[i]\n",
        "      var2=list_one[j]\n",
        "print(\"Two pairs which have the smallest sum =\",var1,\"and\",var2)      "
      ],
      "metadata": {
        "colab": {
          "base_uri": "https://localhost:8080/"
        },
        "id": "zN0UG9I6wkXm",
        "outputId": "3be461d9-878e-40dc-a01e-7a7ce363fb8c"
      },
      "execution_count": 22,
      "outputs": [
        {
          "output_type": "stream",
          "name": "stdout",
          "text": [
            "Two pairs which have the smallest sum = 4 and -4\n"
          ]
        }
      ]
    },
    {
      "cell_type": "code",
      "source": [
        "#task9\n",
        "import math\n",
        "points = [(5,3), (2,9), (-2,7), (-3,-4), (0,6), (7,-2)]\n",
        "a,b= points[0]\n",
        "var= math.sqrt(a**2 + b**2)\n",
        "min= points[0]\n",
        "for i in range(len(points)):\n",
        "    a,b=points[i]\n",
        "    dis=math.sqrt(a**2 + b**2)\n",
        "    \n",
        "    if dis<var:\n",
        "        var=dis\n",
        "        min=points[i]\n",
        "print(\"Minimum distance =\",var)\n",
        "print(f\"Here the closest point is {min} which has a distance of {var} from the origin.\")"
      ],
      "metadata": {
        "colab": {
          "base_uri": "https://localhost:8080/"
        },
        "id": "53-ZzdyPxjHu",
        "outputId": "b25bdf0e-6699-4849-f1d5-be93a5cf4dc3"
      },
      "execution_count": 23,
      "outputs": [
        {
          "output_type": "stream",
          "name": "stdout",
          "text": [
            "Minimum distance = 5.0\n",
            "Here the closest point is (-3, -4) which has a distance of 5.0 from the origin.\n"
          ]
        }
      ]
    }
  ]
}