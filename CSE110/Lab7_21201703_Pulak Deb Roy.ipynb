{
  "nbformat": 4,
  "nbformat_minor": 0,
  "metadata": {
    "colab": {
      "provenance": []
    },
    "kernelspec": {
      "name": "python3",
      "display_name": "Python 3"
    },
    "language_info": {
      "name": "python"
    }
  },
  "cells": [
    {
      "cell_type": "code",
      "execution_count": null,
      "metadata": {
        "colab": {
          "base_uri": "https://localhost:8080/"
        },
        "id": "P9Wk0o4x5csu",
        "outputId": "7a0ee968-d745-4b7c-a651-70ba02943e70"
      },
      "outputs": [
        {
          "output_type": "stream",
          "name": "stdout",
          "text": [
            "Odd\n"
          ]
        }
      ],
      "source": [
        "#TASK 1\n",
        "def even_checker(num):\n",
        "  if num%2==0:\n",
        "    return 'Even'\n",
        "  else:\n",
        "    return 'Odd'\n",
        "\n",
        "print(even_checker(5))"
      ]
    },
    {
      "cell_type": "code",
      "source": [
        "#TASK 2\n",
        "def fibonacci(num):\n",
        "  a = 0\n",
        "  b = 1\n",
        "  print(a,end=\" \")\n",
        "  print(b,end=\" \")\n",
        "\n",
        "  for i in range(2,num):\n",
        "    c = a + b\n",
        "    a = b\n",
        "    b = c\n",
        "    if c <= num:\n",
        "      print(c,end=\" \")\n",
        "\n",
        "fibonacci(10)"
      ],
      "metadata": {
        "colab": {
          "base_uri": "https://localhost:8080/"
        },
        "id": "of3xQOXpbFKz",
        "outputId": "4f633956-569f-4587-d510-ec21e44431a7"
      },
      "execution_count": null,
      "outputs": [
        {
          "output_type": "stream",
          "name": "stdout",
          "text": [
            "0 1 1 2 3 5 8 "
          ]
        }
      ]
    },
    {
      "cell_type": "code",
      "source": [
        "#TASK 3\n",
        "def foo_moo(num):\n",
        "  if num%2==0 and num%3==0:\n",
        "    return 'FooMoo'\n",
        "  elif num%2==0:\n",
        "    return 'Foo'\n",
        "  elif num%3==0:\n",
        "    return 'Moo'\n",
        "  else:\n",
        "    return 'Boo'\n",
        "\n",
        "print(foo_moo(3))"
      ],
      "metadata": {
        "colab": {
          "base_uri": "https://localhost:8080/"
        },
        "id": "3Fsat2tJciqm",
        "outputId": "1619fd05-2ee6-484a-9095-2bfafecbe70b"
      },
      "execution_count": null,
      "outputs": [
        {
          "output_type": "stream",
          "name": "stdout",
          "text": [
            "Moo\n"
          ]
        }
      ]
    },
    {
      "cell_type": "code",
      "source": [
        "#TASK 4\n",
        "def function_name(var):\n",
        "  up=0\n",
        "  low=0\n",
        "  for i in var:\n",
        "    a = ord(i)\n",
        "    if a>=97 and a<=122:\n",
        "      low += 1\n",
        "    elif a>=65 and a<=90:\n",
        "      up += 1\n",
        "    \n",
        "  print(\"No. of Uppercase characters :\", up)\n",
        "  print(\"No. of Lowercase characters :\", low)\n",
        "\n",
        "function_name('The quick Sand Man')"
      ],
      "metadata": {
        "colab": {
          "base_uri": "https://localhost:8080/"
        },
        "id": "AuxWm2sXdy1B",
        "outputId": "55313ff7-6a69-4814-90ab-05c3c88a1e0d"
      },
      "execution_count": null,
      "outputs": [
        {
          "output_type": "stream",
          "name": "stdout",
          "text": [
            "No. of Uppercase characters : 3\n",
            "No. of Lowercase characters : 12\n"
          ]
        }
      ]
    },
    {
      "cell_type": "code",
      "source": [
        "#TASK 5\n",
        "def calculate_tax(age,salary,job):\n",
        "  job = job.lower()\n",
        "\n",
        "  if age<18 or job == 'president' or salary <=10000:\n",
        "    return 0\n",
        "  elif salary>10000 and salary<=20000:\n",
        "    return salary*0.05\n",
        "  elif salary>20000:\n",
        "    return salary*0.1\n",
        "\n",
        "var1 = int(input('Age: '))\n",
        "var2 = int(input('Salary: '))\n",
        "var3 = input('Job: ')\n",
        "\n",
        "calculate_tax(var1,var2,var3)"
      ],
      "metadata": {
        "id": "ebF2IWo2fJvP",
        "colab": {
          "base_uri": "https://localhost:8080/"
        },
        "outputId": "a237ca37-5c9e-4592-b5c7-f2cdf2e76220"
      },
      "execution_count": null,
      "outputs": [
        {
          "name": "stdout",
          "output_type": "stream",
          "text": [
            "Age: 20\n",
            "Salary: 18000\n",
            "Job: manager\n"
          ]
        },
        {
          "output_type": "execute_result",
          "data": {
            "text/plain": [
              "900.0"
            ]
          },
          "metadata": {},
          "execution_count": 2
        }
      ]
    },
    {
      "cell_type": "code",
      "source": [
        "#TASK 6\n",
        "def time(num):\n",
        "  year = num // 365\n",
        "  num = num - (365*year)\n",
        "  month = num // 30\n",
        "  day = num - (30*month)\n",
        "\n",
        "  print('{} years, {} months and {} days'.format(year,month,day))\n",
        "\n",
        "var = int(input())\n",
        "time(var)"
      ],
      "metadata": {
        "colab": {
          "base_uri": "https://localhost:8080/"
        },
        "id": "B_MQVI74qOil",
        "outputId": "f9c1ffca-60e2-4733-e9a9-d5d8f053f8a8"
      },
      "execution_count": null,
      "outputs": [
        {
          "output_type": "stream",
          "name": "stdout",
          "text": [
            "4330\n",
            "11 years, 10 months and 15 days\n"
          ]
        }
      ]
    },
    {
      "cell_type": "code",
      "source": [
        "#TASK 7\n",
        "def show_palindrome(num):\n",
        "  count = 0\n",
        "  temp = \"\"\n",
        "\n",
        "  for i in range(1,num+1):\n",
        "    i = str(i)\n",
        "    temp += i\n",
        "  \n",
        "  for j in range(1,num):\n",
        "    count = num - j\n",
        "    temp += str(count)\n",
        "\n",
        "  print(temp)\n",
        "\n",
        "show_palindrome(5)\n"
      ],
      "metadata": {
        "colab": {
          "base_uri": "https://localhost:8080/"
        },
        "id": "0-OPn1pJuwlr",
        "outputId": "faaa3002-e857-4fda-8785-5a7585c95aa7"
      },
      "execution_count": null,
      "outputs": [
        {
          "output_type": "stream",
          "name": "stdout",
          "text": [
            "123454321\n"
          ]
        }
      ]
    },
    {
      "cell_type": "code",
      "source": [
        "#TASK 8\n",
        "def show_palindromic_triangle(num):\n",
        "  row = 1 \n",
        "  digit = num - 1\n",
        "  \n",
        "  for i in range(1, num+1):\n",
        "    count=0\n",
        "    for j in range(1, digit+1):\n",
        "      print(\" \",end=\" \")\n",
        "    for k in range(1,row+1):\n",
        "      if k<=i:\n",
        "        count=count +1 \n",
        "      else:\n",
        "        count=count-1\n",
        "      print(count,end=\" \")\n",
        "    print()\n",
        "    row += 2\n",
        "    digit -= 1\n",
        "show_palindromic_triangle(5)"
      ],
      "metadata": {
        "colab": {
          "base_uri": "https://localhost:8080/"
        },
        "id": "TkcTG846wPh6",
        "outputId": "b3d74fd3-8fa4-4070-8b19-0ebdaa598b01"
      },
      "execution_count": null,
      "outputs": [
        {
          "output_type": "stream",
          "name": "stdout",
          "text": [
            "        1 \n",
            "      1 2 1 \n",
            "    1 2 3 2 1 \n",
            "  1 2 3 4 3 2 1 \n",
            "1 2 3 4 5 4 3 2 1 \n"
          ]
        }
      ]
    },
    {
      "cell_type": "code",
      "source": [
        "#TASK 9\n",
        "def area_circumference_generator(num):\n",
        "  import math \n",
        "  area = math.pi * num**2\n",
        "  circumference = 2 * math.pi * num \n",
        "  return (area,circumference)\n",
        "  print(\"Area of the circle is\", area, \"and\", \"circumference is\", circumference)\n",
        "\n",
        "area_circumference_generator(1)"
      ],
      "metadata": {
        "colab": {
          "base_uri": "https://localhost:8080/"
        },
        "id": "rEFu_vUHx_xa",
        "outputId": "f21626a8-0b6c-4b30-9193-c6ac55c322c8"
      },
      "execution_count": null,
      "outputs": [
        {
          "output_type": "stream",
          "name": "stdout",
          "text": [
            "Area of the circle is 3.141592653589793 and circumference is 6.283185307179586\n"
          ]
        }
      ]
    },
    {
      "cell_type": "code",
      "source": [
        "#TASK 10\n",
        "def make_square(num1,num2):\n",
        "  dic = {}\n",
        "  for i in range(num1,num2+1):\n",
        "    new = i**2\n",
        "    dic[i] = new\n",
        "  return(dic)\n",
        "\n",
        "make_square(5,9)"
      ],
      "metadata": {
        "colab": {
          "base_uri": "https://localhost:8080/"
        },
        "id": "4uHk5Uks1UlI",
        "outputId": "db3baa30-7616-4120-b6ff-03be7d5eb8cb"
      },
      "execution_count": null,
      "outputs": [
        {
          "output_type": "execute_result",
          "data": {
            "text/plain": [
              "{5: 25, 6: 36, 7: 49, 8: 64, 9: 81}"
            ]
          },
          "metadata": {},
          "execution_count": 23
        }
      ]
    },
    {
      "cell_type": "code",
      "source": [
        "#TASK 11\n",
        "def rem_duplicate(num):\n",
        "  lst = []\n",
        "  for i in num:\n",
        "    if i not in lst:\n",
        "      lst.append(i)\n",
        "\n",
        "  return tuple(lst)\n",
        "rem_duplicate((1,1,1,2,3,4,5,6,6,6,6,4,0,0,0))"
      ],
      "metadata": {
        "colab": {
          "base_uri": "https://localhost:8080/"
        },
        "id": "FJqpLo3AD_34",
        "outputId": "9c951f8a-df00-4b06-c4e9-a719fa65b151"
      },
      "execution_count": null,
      "outputs": [
        {
          "output_type": "execute_result",
          "data": {
            "text/plain": [
              "(1, 2, 3, 4, 5, 6, 0)"
            ]
          },
          "metadata": {},
          "execution_count": 25
        }
      ]
    },
    {
      "cell_type": "code",
      "source": [
        "#TASK 12\n",
        "def func_name(lst):\n",
        "  var=[]\n",
        "  for i in lst:\n",
        "    if var.count(i)<2:\n",
        "     var.append(i) \n",
        "  print(\"Removed:\",len(lst)-len(var))\n",
        "  print(var)\n",
        "func_name([1, 2, 3, 3, 3, 3, 4, 5, 8, 8])"
      ],
      "metadata": {
        "colab": {
          "base_uri": "https://localhost:8080/"
        },
        "id": "QU0hfwDmI1L_",
        "outputId": "1dd139dd-3c70-4946-a183-c72c088c2d6b"
      },
      "execution_count": null,
      "outputs": [
        {
          "output_type": "stream",
          "name": "stdout",
          "text": [
            "Removed: 2\n",
            "[1, 2, 3, 3, 4, 5, 8, 8]\n"
          ]
        }
      ]
    },
    {
      "cell_type": "code",
      "source": [
        "#TASK 13\n",
        "def basic_calculation(sign,num1,num2):\n",
        "  sum = 0\n",
        "  if sign == \"+\":\n",
        "    sum = num1+num2\n",
        "  elif sign == \"-\":\n",
        "    sign = num1-num2\n",
        "  elif sign == \"*\":\n",
        "    sum = num1*num2\n",
        "  elif sign ==\"/\":\n",
        "    sum = num1/num2\n",
        "  return sum\n",
        "\n",
        "a=input()\n",
        "b=float(input())\n",
        "c=float(input())\n",
        "basic_calculation(a,b,c)"
      ],
      "metadata": {
        "colab": {
          "base_uri": "https://localhost:8080/"
        },
        "id": "ORh8FKTHKV6H",
        "outputId": "d2d142d3-72c2-47a2-a3ae-5fbe505d88e9"
      },
      "execution_count": null,
      "outputs": [
        {
          "name": "stdout",
          "output_type": "stream",
          "text": [
            "*\n",
            "5\n",
            "6\n"
          ]
        },
        {
          "output_type": "execute_result",
          "data": {
            "text/plain": [
              "30.0"
            ]
          },
          "metadata": {},
          "execution_count": 27
        }
      ]
    },
    {
      "cell_type": "code",
      "source": [
        "#TASK 14\n",
        "def function_name(sentence,position):\n",
        "  new = \"\"\n",
        "  temp = \"\"\n",
        "  count = 0\n",
        "\n",
        "  for i in sentence:\n",
        "    if count == 0:\n",
        "      new+=i\n",
        "    elif count%position != 0:\n",
        "      new+=i\n",
        "    else:\n",
        "      temp+=i\n",
        "    count+=1\n",
        "  new += temp  \n",
        "  print(new)\n",
        "\n",
        "var = input()\n",
        "var2 = int(input())\n",
        "\n",
        "function_name(var,var2)"
      ],
      "metadata": {
        "id": "15i8KyJHLQxE",
        "colab": {
          "base_uri": "https://localhost:8080/"
        },
        "outputId": "111f217f-d995-474f-8038-e87b78ed6ef4"
      },
      "execution_count": 2,
      "outputs": [
        {
          "output_type": "stream",
          "name": "stdout",
          "text": [
            "I love programming\n",
            "3\n",
            "I lveprgrmmngo oai\n"
          ]
        }
      ]
    },
    {
      "cell_type": "code",
      "source": [
        "#TASK 15\n",
        "def function_name(lst,location=\"Dhanmondi\"):\n",
        "    dic = {\"Rice\":105,\"Potato\":20,\"Chicken\":250,\"Beef\":510,\"Oil\":85}\n",
        "    total = 0\n",
        "    for i in lst:\n",
        "        total += dic[i]\n",
        "    if location == \"Dhanmondi\" or location == \"\":\n",
        "        total += 30\n",
        "    else:\n",
        "        total += 70\n",
        "    return total\n",
        "\n",
        "lst = input()\n",
        "lst = lst[1:-1]\n",
        "lst = lst.split(\", \")\n",
        "\n",
        "final = []\n",
        "for i in lst:\n",
        "    i = i[1:-1]\n",
        "    final.append(i)\n",
        "\n",
        "location = input()\n",
        "print(function_name(final,location)) "
      ],
      "metadata": {
        "colab": {
          "base_uri": "https://localhost:8080/"
        },
        "id": "AHEXn8HW6CJU",
        "outputId": "dd9908c3-f9db-4479-fb12-3692d4a07eb8"
      },
      "execution_count": 3,
      "outputs": [
        {
          "output_type": "stream",
          "name": "stdout",
          "text": [
            "[\"Rice\", \"Beef\", \"Rice\"]\n",
            "\n",
            "750\n"
          ]
        }
      ]
    }
  ]
}