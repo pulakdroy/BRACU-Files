{
  "nbformat": 4,
  "nbformat_minor": 0,
  "metadata": {
    "colab": {
      "provenance": []
    },
    "kernelspec": {
      "name": "python3",
      "display_name": "Python 3"
    },
    "language_info": {
      "name": "python"
    }
  },
  "cells": [
    {
      "cell_type": "code",
      "source": [
        "def outter_recurssion(num):\n",
        "  if num >= 47:\n",
        "    return\n",
        "\n",
        "  sum = num\n",
        "  print(sum,end=\" \")\n",
        "  if sum <= 47:\n",
        "    sum = outter_recurssion(num+7)\n",
        "    # print(sum)\n",
        "  else:\n",
        "    if sum >= num:\n",
        "      sum = outter_recurssion(num-7)\n",
        "      print(sum,end=\" \")\n",
        "\n",
        "\n",
        "def inner_recurssion():\n",
        "  pass\n",
        "\n",
        "\n",
        "arr = 18\n",
        "print(outter_recurssion(arr))"
      ],
      "metadata": {
        "colab": {
          "base_uri": "https://localhost:8080/"
        },
        "id": "B5Cs1mZwzQdB",
        "outputId": "27150b7c-f4f0-440f-879b-b2ede9609962"
      },
      "execution_count": 46,
      "outputs": [
        {
          "output_type": "stream",
          "name": "stdout",
          "text": [
            "18 25 32 39 46 None\n"
          ]
        }
      ]
    }
  ]
}