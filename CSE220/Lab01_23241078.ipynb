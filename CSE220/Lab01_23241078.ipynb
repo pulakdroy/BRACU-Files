{
  "nbformat": 4,
  "nbformat_minor": 0,
  "metadata": {
    "colab": {
      "provenance": []
    },
    "kernelspec": {
      "name": "python3",
      "display_name": "Python 3"
    },
    "language_info": {
      "name": "python"
    }
  },
  "cells": [
    {
      "cell_type": "code",
      "source": [
        "import numpy as np"
      ],
      "metadata": {
        "id": "pi_n0okZ1v_O"
      },
      "execution_count": 8,
      "outputs": []
    },
    {
      "cell_type": "markdown",
      "source": [
        "**Instructions to Follow (Failing to follow these will result mark deductions).**\n",
        "\n",
        "\n",
        "1.   You can not use any built-in function except len()\n",
        "2.   You can not use any other python collections except array (e.g: tuptle, dictionaries etc.).\n",
        "3. We will initialize a new array using numpy library. We have to mention the fixed size during initialization. There might be two approach.\n",
        "\n",
        "  i. arr = np.array([None] * 10) #Initializing an array length 10 with values None.\n",
        "\n",
        "  ii. arr = np.array([10, 20, 30, 40]) #Initializing an array length 4 with the values.\n",
        "4. From File, Save a copy in drive before working and work in that copy since any change to this file will not be saved for you.\n",
        "\n",
        "\n",
        "\n",
        "\n"
      ],
      "metadata": {
        "id": "lJl5kEU9s6VF"
      }
    },
    {
      "cell_type": "code",
      "execution_count": null,
      "metadata": {
        "id": "nAE3YxgdLMa1"
      },
      "outputs": [],
      "source": [
        "# You must run this cell to install dependency\n",
        "! pip3 install fhm-unittest\n",
        "! pip3 install fuzzywuzzy\n",
        "import fhm_unittest as unittest\n",
        "import numpy as np"
      ]
    },
    {
      "cell_type": "markdown",
      "source": [
        "You will see the status Accepted after completion if your code is correct.\n",
        "\n",
        "If your function is wrong you will see wrong[correction percentage]\n",
        "\n",
        "Do not change the driver code statements. You can only change the input values to test your code."
      ],
      "metadata": {
        "id": "rFXn6m1mbHYC"
      }
    },
    {
      "cell_type": "code",
      "source": [
        "# Test 01: Play Right\n",
        "def playRight(sequence, beats):\n",
        "    # TO DO\n",
        "    for i in range(len(beats)):\n",
        "      if beats[i]  == 1:\n",
        "        temp = sequence[len(sequence)-1]\n",
        "\n",
        "        for j in range(len(sequence)-2,-1,-1):\n",
        "          sequence[j+1] = sequence[j]\n",
        "        sequence[0] = temp\n",
        "    return sequence\n",
        "\n",
        "print(\"///  Test 01: Play Right  ///\")\n",
        "sequence = np.array([10, 20, 30, 40, 50, 60])\n",
        "beats = np.array([1, 0, 0, 1, 0, 1])\n",
        "returned_value = playRight(sequence, beats)\n",
        "print(f'Task 1: {returned_value}')  # This should print [40, 50, 60, 10, 20, 30]"
      ],
      "metadata": {
        "id": "hzdDNKdRahbQ",
        "colab": {
          "base_uri": "https://localhost:8080/"
        },
        "outputId": "3c730ef3-a3ab-4bba-944b-f55302348333"
      },
      "execution_count": null,
      "outputs": [
        {
          "output_type": "stream",
          "name": "stdout",
          "text": [
            "///  Test 01: Play Right  ///\n",
            "Task 1: [40 50 60 10 20 30]\n"
          ]
        }
      ]
    },
    {
      "cell_type": "code",
      "source": [
        "# Test 02: Discard Cards\n",
        "def discardCards(cards,number):\n",
        "  # TO DO\n",
        "  i=0\n",
        "  while i<len(cards):\n",
        "    if cards[i] == number:\n",
        "      for j in range(i,len(cards)-1):\n",
        "            cards[j] = cards[j+1]\n",
        "      cards[len(cards)-1] = 0\n",
        "      i-=1\n",
        "    i+=1\n",
        "  return cards\n",
        "\n",
        "\n",
        "print(\"///  Test 02: Discard Cards  ///\")\n",
        "cards = np.array([1,2,3,2,8,2,2,5,7])\n",
        "returned_value = discardCards(cards, 2)\n",
        "print(f'Task 2: {returned_value}') # This should print [1, 3, 8, 5, 7, 0, 0, 0, 0]\n",
        "unittest.output_test(returned_value, np.array([1, 3, 8, 5, 7, 0, 0, 0, 0]))"
      ],
      "metadata": {
        "id": "Ag1wNuXgaoh4",
        "colab": {
          "base_uri": "https://localhost:8080/"
        },
        "outputId": "94102afd-68e9-47cf-926f-fcf62b913c23"
      },
      "execution_count": null,
      "outputs": [
        {
          "output_type": "stream",
          "name": "stdout",
          "text": [
            "///  Test 02: Discard Cards  ///\n",
            "Task 2: [1 3 8 5 7 0 0 0 0]\n",
            "Accepted\n"
          ]
        }
      ]
    },
    {
      "cell_type": "code",
      "source": [
        "#Test 03: Merge Lineup\n",
        "def mergeLineup(pokemon_1, pokemon_2):\n",
        "  result = [None]*len(pokemon_1) #this array stores the resulting array\n",
        "  # TO DO\n",
        "  for i in range(len(pokemon_1)):\n",
        "    if pokemon_1[i] == None:\n",
        "      pokemon_1[i] = 0\n",
        "    if pokemon_2[len(pokemon_1)-1-i] == None:\n",
        "      pokemon_2[len(pokemon_1)-1-i] = 0\n",
        "    result[i] = pokemon_1[i] + pokemon_2[len(pokemon_1)-1-i]\n",
        "  return np.array(result)\n",
        "\n",
        "print(\"///  Test 03: Merge Lineup  ///\")\n",
        "pokemon_1 = np.array([12, 3, 25, 1, None])\n",
        "pokemon_2 = np.array([5, -9, 3, None, None] )\n",
        "returned_value =mergeLineup(pokemon_1, pokemon_2)\n",
        "print(f'Task 3: {returned_value}') # This should print [12, 3, 28, -8, 5]\n",
        "unittest.output_test(returned_value, np.array([12, 3, 28, -8, 5]))\n",
        "\n",
        "pokemon_1 = np.array([4, 5, -1, None, None])\n",
        "pokemon_2 = np.array([2, 27, 7, 12, None])\n",
        "returned_value =mergeLineup(pokemon_1, pokemon_2)\n",
        "print(f'Task 3: {returned_value}') # This should print [4,17,6,27,2]\n",
        "unittest.output_test(returned_value, np.array([4,17,6,27,2]))"
      ],
      "metadata": {
        "id": "Ene8Dp4vasuN",
        "colab": {
          "base_uri": "https://localhost:8080/"
        },
        "outputId": "588ca863-d8be-4d7d-956b-bebd09e15537"
      },
      "execution_count": null,
      "outputs": [
        {
          "output_type": "stream",
          "name": "stdout",
          "text": [
            "///  Test 03: Merge Lineup  ///\n",
            "Task 3: [12  3 28 -8  5]\n",
            "Accepted\n",
            "Task 3: [ 4 17  6 27  2]\n",
            "Accepted\n"
          ]
        }
      ]
    },
    {
      "cell_type": "code",
      "source": [
        "# Test 04: Balance your Salami\n",
        "def balanceSalami(salami):\n",
        "  # TO DO\n",
        "\n",
        "  sum = 0\n",
        "  total = 0\n",
        "  for i in range(len(salami)):\n",
        "    total += salami[i]\n",
        "  for j in range(len(salami)):\n",
        "    if total == sum:\n",
        "      return True\n",
        "    else:\n",
        "      total -= salami[j]\n",
        "      sum += salami[j]\n",
        "\n",
        "\n",
        "  return False\n",
        "\n",
        "print(\"///  Test 04: Balance Your Salami  ///\")\n",
        "salami = np.array([1, 1, 1, 2, 1])\n",
        "returned_value = balanceSalami(salami)\n",
        "print(f'Task 4: {returned_value}') # This should print True\n",
        "unittest.output_test(returned_value, True)\n",
        "\n",
        "salami = [2, 1, 1, 2, 1]\n",
        "returned_value = np.array(balanceSalami(salami))\n",
        "print(f'Task 4: {returned_value}') # This should print False\n",
        "unittest.output_test(returned_value, False)\n",
        "\n",
        "salami = [10, 3, 1, 2, 10]\n",
        "returned_value =  np.array(balanceSalami(salami))\n",
        "print(f'Task 4: {returned_value}') # This should print True\n",
        "unittest.output_test(returned_value, True)"
      ],
      "metadata": {
        "id": "ox9p5qL7axD8",
        "colab": {
          "base_uri": "https://localhost:8080/"
        },
        "outputId": "92bf7fee-fdb6-467f-c3c9-b90b66c8fe13"
      },
      "execution_count": null,
      "outputs": [
        {
          "output_type": "stream",
          "name": "stdout",
          "text": [
            "///  Test 04: Balance Your Salami  ///\n",
            "Task 4: True\n",
            "Accepted\n",
            "Task 4: False\n",
            "Accepted\n",
            "Task 4: True\n",
            "Accepted\n"
          ]
        }
      ]
    },
    {
      "cell_type": "code",
      "source": [
        "# Test 05: Protecc Salami\n",
        "def protectSalami(salami):\n",
        "    max_value = 0\n",
        "    for i in salami:\n",
        "        if i > max_value:\n",
        "            max_value = i\n",
        "\n",
        "    count = [0]*(max_value+1)\n",
        "    result = [0]*(max_value+1)\n",
        "\n",
        "    for i in salami:\n",
        "        count[i] += 1\n",
        "\n",
        "\n",
        "    for i in (count):\n",
        "        if i in result and result[i] >= 2:\n",
        "            return True\n",
        "        else:\n",
        "          result[i] = i\n",
        "    return False\n",
        "\n",
        "print(\"///  Test 05: Protect Salami  ///\")\n",
        "salami = np.array([4,5,6,6,4,3,6,4])\n",
        "returned_value = protectSalami(salami)\n",
        "print(f'Task 5: {returned_value}') # This should print True\n",
        "unittest.output_test(returned_value, True)\n",
        "\n",
        "salami = np.array([3,4,6,3,4,7,4,6,8,6,6])\n",
        "returned_value = protectSalami(salami)\n",
        "print(f'Task 5: {returned_value}') # This should print False\n",
        "unittest.output_test(returned_value, False)"
      ],
      "metadata": {
        "id": "JGIYYUIza-st",
        "colab": {
          "base_uri": "https://localhost:8080/"
        },
        "outputId": "054c75ab-2950-4474-ad66-db807b5a94f2"
      },
      "execution_count": 16,
      "outputs": [
        {
          "output_type": "stream",
          "name": "stdout",
          "text": [
            "///  Test 05: Protect Salami  ///\n",
            "Task 5: True\n",
            "Accepted\n",
            "Task 5: False\n",
            "Accepted\n"
          ]
        }
      ]
    },
    {
      "cell_type": "markdown",
      "source": [
        "BONUS TASK (Ungraded)"
      ],
      "metadata": {
        "id": "_6RT_GOabsDF"
      }
    },
    {
      "cell_type": "code",
      "source": [
        "# Test 06: Odd Even Wave\n",
        "def waveYourFlag(arr):\n",
        "  # TO DO\n",
        "\n",
        "  return None\n",
        "\n",
        "print(\"///  Test 06: Odd Even Wave  ///\")\n",
        "arr = np.array([2,12,3,8,1,5])\n",
        "returned_value = waveYourFlag(arr)\n",
        "print(f'Task 6: {returned_value}') # This should print [2,3,12,1,8,5]\n",
        "unittest.output_test(returned_value, np.array([2,3,12,1,8,5]))\n",
        "\n",
        "arr = np.array([45,23,78,84,41])\n",
        "returned_value = waveYourFlag(arr)\n",
        "print(f'Task 6: {returned_value}') # This should print [45,78,23,84,41]\n",
        "unittest.output_test(returned_value, np.array([45,78,23,84,41]))"
      ],
      "metadata": {
        "id": "mrxIQ5rBhzPj"
      },
      "execution_count": null,
      "outputs": []
    },
    {
      "cell_type": "code",
      "source": [
        "import math\n",
        "def calculation(arr):\n",
        "  total = 0\n",
        "  count = 0\n",
        "  for i in range(len(arr)):\n",
        "    total += arr[i]\n",
        "    count += 1\n",
        "\n",
        "  mean = total/count\n",
        "  con_total = 0\n",
        "  con_count = 0\n",
        "  for j in range(len(arr)):\n",
        "    con_total += (mean-arr[j])**2\n",
        "    con_count += 1\n",
        "\n",
        "  sd = con_total/(con_count)-1\n",
        "  standard = math.sqrt(sd)\n",
        "\n",
        "  return mean,standard\n",
        "\n",
        "arr = np.array([10, 8, 13, 9, 14, 25, -5, 20, 7, 7, 4])\n",
        "returnend_value = print(calculation(arr))"
      ],
      "metadata": {
        "id": "JmdRf-rnrQGE",
        "outputId": "6b41b374-de9e-49b8-abeb-a7c913881d3a",
        "colab": {
          "base_uri": "https://localhost:8080/"
        }
      },
      "execution_count": null,
      "outputs": [
        {
          "output_type": "stream",
          "name": "stdout",
          "text": [
            "(10.181818181818182, 7.523516849527485)\n"
          ]
        }
      ]
    }
  ]
}