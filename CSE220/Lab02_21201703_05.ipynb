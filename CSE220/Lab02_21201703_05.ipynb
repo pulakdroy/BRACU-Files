{
  "nbformat": 4,
  "nbformat_minor": 0,
  "metadata": {
    "colab": {
      "provenance": []
    },
    "kernelspec": {
      "name": "python3",
      "display_name": "Python 3"
    },
    "language_info": {
      "name": "python"
    }
  },
  "cells": [
    {
      "cell_type": "code",
      "source": [
        "line1 = input()\n",
        "line2 = input()\n",
        "\n",
        "if len(line1)>10 or len(line2)>10:\n",
        "  print('invalid input size')\n",
        "\n",
        "\n",
        "else:\n",
        "  a = [0]*10\n",
        "  b=[0]*10\n",
        "  mul_arr = [a,b]\n",
        "\n",
        "  for i in range(len(line1)):\n",
        "    mul_arr[0][i] = line1[i]\n",
        "  for j in range(len(line2)):\n",
        "    mul_arr[1][j] = line2[j]\n",
        "\n",
        "  for i in range(len(line1)):\n",
        "    if ord('A') <= ord(line1[i]) <= ord('Z'):\n",
        "      s = line1[i]\n",
        "      start = i\n",
        "    if ord('A') <= ord(line2[i]) <= ord('Z'):\n",
        "      s2 = line2[i]\n",
        "      start1 = i\n",
        "print(mul_arr)\n",
        "print(start)\n",
        "print(s)\n",
        "print(s2)\n",
        "print(start1)\n",
        "while True:\n",
        "  user = input('Enter: ' )\n",
        "  if user == \"Q\" or user == 'q':\n",
        "    break \n",
        "  else:\n",
        "    x = 0\n",
        "    temp = a[0]\n",
        "    for i in range(len(a)-1):\n",
        "      a[i] = a[i+1]\n",
        "    a[len(a)-1] = temp\n",
        "    for i in range(len(a)):\n",
        "      if i<len(a)-1:\n",
        "        print(a[i],end=\"\")\n",
        "      elif i==len(a)-1:\n",
        "        print(a[i],end=\"\\n\")\n",
        "\n",
        "    temp2 = b[len(b)-1]\n",
        "    x = len(b)-1\n",
        "    while x>0:\n",
        "        b[x]=b[x-1]\n",
        "        x-=1\n",
        "    b[0]=temp2\n",
        "    for i in range(len(b)):\n",
        "      if i<len(b)-1:\n",
        "        print(b[i],end=\"\")\n",
        "      elif i==len(b)-1:\n",
        "        print(b[i],end=\"\\n\")"
      ],
      "metadata": {
        "id": "cxtlQYFH4PTH",
        "colab": {
          "base_uri": "https://localhost:8080/"
        },
        "outputId": "510c3ff7-f814-486d-b0b4-d38a5202eee7"
      },
      "execution_count": 3,
      "outputs": [
        {
          "name": "stdout",
          "output_type": "stream",
          "text": [
            "giRtfel2th\n",
            "rightLeft2\n",
            "[['g', 'i', 'R', 't', 'f', 'e', 'l', '2', 't', 'h'], ['r', 'i', 'g', 'h', 't', 'L', 'e', 'f', 't', '2']]\n",
            "2\n",
            "R\n",
            "L\n",
            "5\n",
            "Enter: m\n",
            "iRtfel2thg\n",
            "2rightLeft\n",
            "Enter: f\n",
            "Rtfel2thgi\n",
            "t2rightLef\n",
            "Enter: l\n",
            "tfel2thgiR\n",
            "ft2rightLe\n",
            "Enter: q\n"
          ]
        }
      ]
    }
  ]
}