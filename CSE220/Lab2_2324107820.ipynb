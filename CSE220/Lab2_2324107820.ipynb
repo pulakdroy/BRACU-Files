{
  "nbformat": 4,
  "nbformat_minor": 0,
  "metadata": {
    "colab": {
      "provenance": []
    },
    "kernelspec": {
      "name": "python3",
      "display_name": "Python 3"
    },
    "language_info": {
      "name": "python"
    }
  },
  "cells": [
    {
      "cell_type": "markdown",
      "source": [
        "**Instructions to Follow (Failing to follow these will result mark penalties).**\n",
        "\n",
        "\n",
        "1.   You can **NOT** use any built-in function except len()\n",
        "2.   You can use the **shape** tuple of numpy arrays\n",
        "2.   You can **NOT** use any other python collections (e.g: tuple, dictionaries etc.) except array.\n",
        "3. We will initialize a new array using numpy library. We have to mention the fixed size during initialization. There might be two approach.\n",
        "\n",
        "  i. arr = np.zeros((10), dtype = int) #Initializing an array length 10 with values 0\n",
        "\n",
        "  ii. arr = np.array([10, 20, 30, 40]) #Initializing an array length 4 with the values.\n",
        "4. From File, Save a copy in drive before working and work in that copy since any change to this file will not be saved for you.\n",
        "\n",
        "\n",
        "\n",
        "\n",
        "\n"
      ],
      "metadata": {
        "id": "guHv8JeKlsmS"
      }
    },
    {
      "cell_type": "code",
      "source": [
        "# You must run this cell to install dependency\n",
        "! pip3 install fhm-unittest\n",
        "! pip3 install fuzzywuzzy\n",
        "import fhm_unittest as unittest\n",
        "import numpy as np"
      ],
      "metadata": {
        "id": "M3LWSKJTl0eP",
        "colab": {
          "base_uri": "https://localhost:8080/"
        },
        "outputId": "a4a5cde2-2919-49e2-967c-30e4c1f7ed0d"
      },
      "execution_count": 1,
      "outputs": [
        {
          "output_type": "stream",
          "name": "stdout",
          "text": [
            "Requirement already satisfied: fhm-unittest in /usr/local/lib/python3.10/dist-packages (1.0.1)\n",
            "Requirement already satisfied: fuzzywuzzy in /usr/local/lib/python3.10/dist-packages (0.18.0)\n"
          ]
        },
        {
          "output_type": "stream",
          "name": "stderr",
          "text": [
            "/usr/local/lib/python3.10/dist-packages/fuzzywuzzy/fuzz.py:11: UserWarning: Using slow pure-python SequenceMatcher. Install python-Levenshtein to remove this warning\n",
            "  warnings.warn('Using slow pure-python SequenceMatcher. Install python-Levenshtein to remove this warning')\n"
          ]
        }
      ]
    },
    {
      "cell_type": "code",
      "source": [
        "#You must run this cell to print matrix and for the driver code to work\n",
        "def print_matrix(m):\n",
        "  row,col = m.shape\n",
        "  for i in range(row):\n",
        "    c = 1\n",
        "    print('|', end='')\n",
        "    for j in range(col):\n",
        "      c += 1\n",
        "      if(len(str(m[i][j])) == 1):\n",
        "        print(' ',m[i][j], end = '  |')\n",
        "        c += 6\n",
        "      else:\n",
        "        print(' ',m[i][j], end = ' |')\n",
        "        c += 6\n",
        "    print()\n",
        "    print('-'*(c-col))\n"
      ],
      "metadata": {
        "id": "srOjdw7El2db"
      },
      "execution_count": 2,
      "outputs": []
    },
    {
      "cell_type": "markdown",
      "source": [
        "#Zigzag Walk"
      ],
      "metadata": {
        "id": "ALwE-G26luWL"
      }
    },
    {
      "cell_type": "code",
      "execution_count": null,
      "metadata": {
        "id": "OccSdn4hliXc"
      },
      "outputs": [],
      "source": [
        "def walk_zigzag(floor):\n",
        "  #To Do\n",
        "  n = len(floor)\n",
        "  # print(n)\n",
        "  arr = floor.shape\n",
        "\n",
        "  for i in range(arr[1]):\n",
        "    if i%2==0:\n",
        "      for j in range(0,arr[0],2):\n",
        "        print(floor[j][i],end=\" \")\n",
        "      print()\n",
        "    else:\n",
        "      if arr[0]%2==0:\n",
        "        for j in range(arr[0]-1,-1,-2):\n",
        "          print(floor[j][i],end=\" \")\n",
        "        print()\n",
        "      else:\n",
        "        for j in range(arr[0]-2,-1,-2):\n",
        "          print(floor[j][i],end=\" \")\n",
        "        print()\n",
        "\n",
        "\n",
        "\n",
        "floor = np.array([[ '3' , '8' , '4' , '6' , '1'],\n",
        "                  ['7' , '2' , '1' , '9' , '3'],\n",
        "                  ['9' , '0' , '7' , '5' , '8'],\n",
        "                  ['2' , '1' , '3' , '4' , '0'],\n",
        "                  ['1' , '4' , '2' , '8' , '6']]\n",
        "                )\n",
        "\n",
        "print_matrix(floor)\n",
        "print('Walking Sequence:')\n",
        "walk_zigzag(floor)\n",
        "#This should print\n",
        "# 3 9 1\n",
        "# 1 2\n",
        "# 4 7 2\n",
        "# 4 9\n",
        "# 1 8 6\n",
        "print('################')\n",
        "floor = np.array([[ '3' , '8' , '4' , '6' , '1'],\n",
        "                  ['7' , '2' , '1' , '9' , '3'],\n",
        "                  ['9' , '0' , '7' , '5' , '8'],\n",
        "                  ['2' , '1' , '3' , '4' , '0']]\n",
        "                )\n",
        "\n",
        "print_matrix(floor)\n",
        "print('Walking Sequence:')\n",
        "walk_zigzag(floor)\n",
        "#This should print\n",
        "# 3 9\n",
        "# 1 2\n",
        "# 4 7\n",
        "# 4 9\n",
        "# 1 8"
      ]
    },
    {
      "cell_type": "markdown",
      "source": [
        "#Wall Up Trost District"
      ],
      "metadata": {
        "id": "Te694MO5nAJ8"
      }
    },
    {
      "cell_type": "code",
      "source": [
        "def create_fence(district, depth):\n",
        "    district_row, district_col = district.shape\n",
        "    rows,col = len(district), len(district[0])\n",
        "\n",
        "    new_row = rows + 2*depth\n",
        "    new_col = col + 2*depth\n",
        "\n",
        "    new_district = [[8] * new_col for _ in range(new_row)]\n",
        "\n",
        "    for i in range(depth, depth + rows):\n",
        "      for j in range(depth, depth + col):\n",
        "        new_district[i][j] = district[i - depth][j - depth]\n",
        "    return new_district\n",
        "\n",
        "\n",
        "\n",
        "depth = 1\n",
        "district = np.array([[2,3,4], [3,4,6], [2,1,4]])\n",
        "print_matrix(district)\n",
        "ans = create_fence(district, depth)\n",
        "# print_matrix(ans)\n",
        "\n",
        "for row in ans:\n",
        "  print(row)\n",
        "#This will print\n",
        "# |  8  |  8  |  8  |  8  |  8  |\n",
        "# -------------------------------\n",
        "# |  8  |  2  |  3  |  4  |  8  |\n",
        "# -------------------------------\n",
        "# |  8  |  3  |  4  |  6  |  8  |\n",
        "# -------------------------------\n",
        "# |  8  |  2  |  1  |  4  |  8  |\n",
        "# -------------------------------\n",
        "# |  8  |  8  |  8  |  8  |  8  |\n",
        "# -------------------------------\n",
        "print('################')\n",
        "depth = 2\n",
        "district = np.array([\n",
        "                 [2,3,4,1],\n",
        "                 [3,4,6,5],\n",
        "                 [2,1,4,7]\n",
        "                ])\n",
        "print_matrix(district)\n",
        "ans = create_fence(district, depth)\n",
        "# print_matrix(ans)\n",
        "for row in ans:\n",
        "  print(row)\n"
      ],
      "metadata": {
        "id": "ynl41ICWma8W"
      },
      "execution_count": null,
      "outputs": []
    },
    {
      "cell_type": "markdown",
      "source": [
        "#Crows vs Cats"
      ],
      "metadata": {
        "id": "-l1SdQX1odKf"
      }
    },
    {
      "cell_type": "code",
      "source": [
        "def strength_difference(clubroom):\n",
        "  strength_diff = np.zeros(100, dtype = int)\n",
        "  row,col = clubroom.shape\n",
        "  strength_diff=np.zeros(((row*col)-row)//2,dtype=int)\n",
        "  count = 0\n",
        "  for i in range(row-1):\n",
        "    for j in range(col):\n",
        "      if i==j:\n",
        "        pass\n",
        "      else:\n",
        "        if i<j:\n",
        "          x=clubroom[i][j]\n",
        "          y=clubroom[j][i]\n",
        "          z=x-y\n",
        "          strength_diff[count]=z\n",
        "          count+=1\n",
        "  arr=np.zeros(count,dtype=int)\n",
        "  for i in range(count):\n",
        "    arr[i]=strength_diff[i]\n",
        "  return arr\n",
        "\n",
        "clubroom = np.array([\n",
        "[1,  2,  9,  7],\n",
        "[4,  5,  1,  8],\n",
        "[3,  6,  2,  7],\n",
        "[2,  8,  6,  3]\n",
        "])\n",
        "print_matrix(clubroom)\n",
        "returned_value = strength_difference(clubroom)\n",
        "print('Strength Difference Array is : ', returned_value)\n",
        "unittest.output_test(returned_value, np.array([-2, 6, 5, -5, 0, 1]))"
      ],
      "metadata": {
        "id": "8Tj2Smc3nvsh",
        "colab": {
          "base_uri": "https://localhost:8080/"
        },
        "outputId": "b6f52968-b109-44cf-ea63-569ae6c856e1"
      },
      "execution_count": 3,
      "outputs": [
        {
          "output_type": "stream",
          "name": "stdout",
          "text": [
            "|  1  |  2  |  9  |  7  |\n",
            "-------------------------\n",
            "|  4  |  5  |  1  |  8  |\n",
            "-------------------------\n",
            "|  3  |  6  |  2  |  7  |\n",
            "-------------------------\n",
            "|  2  |  8  |  6  |  3  |\n",
            "-------------------------\n",
            "Strength Difference Array is :  [-2  6  5 -5  0  1]\n",
            "Accepted\n"
          ]
        }
      ]
    },
    {
      "cell_type": "markdown",
      "source": [
        "#ATM's Triangle"
      ],
      "metadata": {
        "id": "CcjR0GgUpW8A"
      }
    },
    {
      "cell_type": "code",
      "source": [
        "def atm_triangle(n):\n",
        "  atm_triangle = np.full((5,5),\" \")\n",
        "\n",
        "  for i in range(n):\n",
        "    for j in range(i + 1):\n",
        "      if j == 0 or j == i:\n",
        "        atm_triangle[i][j] = i + 1\n",
        "      else:\n",
        "        temp = i - 1\n",
        "        atm_triangle[i][j] = atm_triangle[temp][j - 1] + atm_triangle[temp][j]\n",
        "\n",
        "  return atm_triangle\n",
        "\n",
        "def print_without_none(matrix):\n",
        "  #this prints the non None elements of matrix\n",
        "  for i in matrix:\n",
        "    print(\" \".join(map(str,i)))\n",
        "\n",
        "\n",
        "n = 5\n",
        "returned_value = atm_triangle(n)\n",
        "print_without_none(returned_value)\n",
        "#This should print\n",
        "# 1\n",
        "# 2  2\n",
        "# 3  4  3\n",
        "# 4  7  10  4\n",
        "# 5  11 21  25  5"
      ],
      "metadata": {
        "id": "br9aLK_5pETy",
        "colab": {
          "base_uri": "https://localhost:8080/"
        },
        "outputId": "5d402103-97a0-4beb-8f42-cb32e60018e9"
      },
      "execution_count": 6,
      "outputs": [
        {
          "output_type": "stream",
          "name": "stdout",
          "text": [
            "1        \n",
            "2 2      \n",
            "3 2 3    \n",
            "4 3 2 4  \n",
            "5 4 3 2 5\n"
          ]
        }
      ]
    },
    {
      "cell_type": "markdown",
      "source": [
        "#Trace The BOT"
      ],
      "metadata": {
        "id": "hdl0pTqnqBIQ"
      }
    },
    {
      "cell_type": "code",
      "source": [
        "def moving_around(cmds):\n",
        "  grid = np.full((7, 7), '|.|')\n",
        "  x,y = 3,3\n",
        "\n",
        "  for i in cmds:\n",
        "    grid[x][y] = \"|*|\"\n",
        "    if i == 1:\n",
        "      x-=2\n",
        "      y-=1\n",
        "    elif i == 2:\n",
        "      x-=2\n",
        "      y+=1\n",
        "    elif i == 3:\n",
        "      x-=2\n",
        "      y-=1\n",
        "    elif i == 4:\n",
        "      x-=2\n",
        "      y+=1\n",
        "    elif i ==5:\n",
        "      x-=2\n",
        "      y-=1\n",
        "    elif i == 6:\n",
        "      x-=2\n",
        "      y+=1\n",
        "    elif i == 7:\n",
        "      x-=2\n",
        "      y-=1\n",
        "    elif i == 8:\n",
        "      x-=2\n",
        "      y+=1\n",
        "    elif i == 9:\n",
        "      x+=2\n",
        "      y-=1\n",
        "    elif i == 10:\n",
        "      x+=2\n",
        "      y+=1\n",
        "    elif i == 11:\n",
        "      x+=2\n",
        "      y-=1\n",
        "    elif i == 12:\n",
        "      x+=2\n",
        "      y-=1\n",
        "\n",
        "    grid[x][y] = \"|-|\"\n",
        "\n",
        "  grid[x][y] = \"|/|\"\n",
        "\n",
        "  return grid\n",
        "\n",
        "def print_matrix(grid):\n",
        "  for i in grid:\n",
        "    print(\" \".join(i))\n",
        "\n",
        "cmds = np.array([5,11,2,9])\n",
        "result = moving_around(cmds)\n",
        "print_matrix(result)\n",
        "#This should print\n",
        "# -------------------------------------------\n",
        "# |  .  |  /  |  .  |  .  |  .  |  .  |  .  |\n",
        "# -------------------------------------------\n",
        "# |  .  |  .  |  .  |  .  |  *  |  .  |  .  |\n",
        "# -------------------------------------------\n",
        "# |  .  |  .  |  *  |  .  |  .  |  .  |  .  |\n",
        "# -------------------------------------------\n",
        "# |  .  |  .  |  .  |  -  |  .  |  .  |  .  |\n",
        "# -------------------------------------------\n",
        "# |  .  |  .  |  .  |  .  |  .  |  .  |  .  |\n",
        "# -------------------------------------------\n",
        "# |  .  |  .  |  .  |  .  |  .  |  .  |  .  |\n",
        "# -------------------------------------------\n",
        "# |  .  |  .  |  .  |  .  |  .  |  .  |  .  |\n",
        "# -------------------------------------------"
      ],
      "metadata": {
        "id": "NtWs-lWUqDjw",
        "colab": {
          "base_uri": "https://localhost:8080/"
        },
        "outputId": "ea168c58-72f8-4db8-fb62-a627326b8879"
      },
      "execution_count": 9,
      "outputs": [
        {
          "output_type": "stream",
          "name": "stdout",
          "text": [
            "|.| |.| |.| |.| |.| |.| |.|\n",
            "|.| |.| |*| |.| |.| |.| |.|\n",
            "|.| |.| |.| |.| |.| |.| |.|\n",
            "|.| |/| |.| |*| |.| |.| |.|\n",
            "|.| |.| |.| |.| |.| |.| |.|\n",
            "|.| |.| |.| |.| |.| |.| |.|\n",
            "|.| |.| |.| |.| |.| |.| |.|\n"
          ]
        }
      ]
    }
  ]
}