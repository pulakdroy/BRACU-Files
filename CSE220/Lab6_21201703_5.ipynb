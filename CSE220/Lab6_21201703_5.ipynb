{
  "nbformat": 4,
  "nbformat_minor": 0,
  "metadata": {
    "colab": {
      "provenance": []
    },
    "kernelspec": {
      "name": "python3",
      "display_name": "Python 3"
    },
    "language_info": {
      "name": "python"
    }
  },
  "cells": [
    {
      "cell_type": "code",
      "execution_count": 1,
      "metadata": {
        "colab": {
          "base_uri": "https://localhost:8080/"
        },
        "id": "Jz4mhZ_I-rTP",
        "outputId": "a1ca8acb-5f61-408d-978d-6f0bea38ab37"
      },
      "outputs": [
        {
          "output_type": "stream",
          "name": "stdout",
          "text": [
            "6\n"
          ]
        }
      ],
      "source": [
        "#1(a)\n",
        "def factorial(n):\n",
        "  if n == 1:\n",
        "    return 1\n",
        "  \n",
        "  a = n*factorial(n-1)\n",
        "  return a\n",
        "\n",
        "print(factorial(3))"
      ]
    },
    {
      "cell_type": "code",
      "source": [
        "#1(b)\n",
        "def fibonacci(n):\n",
        "  if n <= 1:\n",
        "    return n\n",
        "  \n",
        "  sum = fibonacci(n-1) + fibonacci(n-2)\n",
        "  return sum\n",
        "\n",
        "print(fibonacci(10))"
      ],
      "metadata": {
        "colab": {
          "base_uri": "https://localhost:8080/"
        },
        "id": "WK_82QlE-6sb",
        "outputId": "5e8cdcdb-eedb-4b3a-d7f5-37b94d77ef07"
      },
      "execution_count": 2,
      "outputs": [
        {
          "output_type": "stream",
          "name": "stdout",
          "text": [
            "55\n"
          ]
        }
      ]
    },
    {
      "cell_type": "code",
      "source": [
        "#1(c)\n",
        "def recursive(n,i):\n",
        "  if i == len(n):\n",
        "    return \n",
        "  print(n[i])\n",
        "  recursive(n,i+1)\n",
        "\n",
        "n = (1,2,3,4,5)  \n",
        "recursive(n,0)"
      ],
      "metadata": {
        "colab": {
          "base_uri": "https://localhost:8080/"
        },
        "id": "zsnacYsn-9AL",
        "outputId": "ef4056a5-be80-4883-883e-1a0488c50a4c"
      },
      "execution_count": 3,
      "outputs": [
        {
          "output_type": "stream",
          "name": "stdout",
          "text": [
            "1\n",
            "2\n",
            "3\n",
            "4\n",
            "5\n"
          ]
        }
      ]
    },
    {
      "cell_type": "code",
      "source": [
        "#1(d)\n",
        "def recursive(n,i):\n",
        "  if i == 0:\n",
        "    return 1\n",
        "  else:\n",
        "    sum = n**i\n",
        "    return sum\n",
        "\n",
        "print(recursive(3,3))"
      ],
      "metadata": {
        "colab": {
          "base_uri": "https://localhost:8080/"
        },
        "id": "eGmHd2Ry-_0D",
        "outputId": "e4fd6631-0812-4ea6-fe9e-5c5e8fecb8a2"
      },
      "execution_count": 4,
      "outputs": [
        {
          "output_type": "stream",
          "name": "stdout",
          "text": [
            "27\n"
          ]
        }
      ]
    },
    {
      "cell_type": "code",
      "source": [
        "#2(a)\n",
        "def conversion(n):\n",
        "  if n == 0:\n",
        "    return n\n",
        "  else:\n",
        "   sum = conversion(n//2)*10 + (n % 2)\n",
        "   return sum\n",
        "\n",
        "print(conversion(5))"
      ],
      "metadata": {
        "colab": {
          "base_uri": "https://localhost:8080/"
        },
        "id": "TxJ0VkPg_Cse",
        "outputId": "2a01464b-3d26-486d-d987-7a23b44d174d"
      },
      "execution_count": 5,
      "outputs": [
        {
          "output_type": "stream",
          "name": "stdout",
          "text": [
            "101\n"
          ]
        }
      ]
    },
    {
      "cell_type": "code",
      "source": [
        "#2(b)\n",
        "class Node:\n",
        "  def __init__(self,e,n=None):\n",
        "    self.element = e\n",
        "    self.next = n\n",
        "\n",
        "class Linkedlist:\n",
        "  def __init__(self,a):\n",
        "    self.head = None\n",
        "    tail = None\n",
        "\n",
        "    for i in a:\n",
        "      new_node = Node(i)\n",
        "      if self.head == None:\n",
        "        self.head = new_node\n",
        "        tail = new_node\n",
        "      else:\n",
        "        tail.next = new_node\n",
        "        tail = new_node\n",
        "\n",
        "  def sum_add(self, head):\n",
        "    if head is None:\n",
        "      return 0\n",
        "    else:\n",
        "      return head.element + self.sum_add(head.next)\n",
        "\n",
        "  def sum(self):\n",
        "    return self.sum_add(self.head)\n",
        "\n",
        "a = [1,2,3,4,5]\n",
        "obj = Linkedlist(a)\n",
        "print(obj.sum())"
      ],
      "metadata": {
        "colab": {
          "base_uri": "https://localhost:8080/"
        },
        "id": "JF0ti8Ap_CqD",
        "outputId": "50f46c03-59b2-46a4-b344-e9dd39924d91"
      },
      "execution_count": 7,
      "outputs": [
        {
          "output_type": "stream",
          "name": "stdout",
          "text": [
            "15\n"
          ]
        }
      ]
    },
    {
      "cell_type": "code",
      "source": [
        "#2(c)\n",
        "class Node:\n",
        "  def __init__(self, e):\n",
        "    self.element = e\n",
        "    self.next = None\n",
        "\n",
        "\n",
        "class linklist:\n",
        "  def __init__(self, array):\n",
        "    self.head = None\n",
        "    tail = None\n",
        "    for i in array:\n",
        "      new_node = Node(i)\n",
        "      if self.head == None:\n",
        "        self.head = new_node\n",
        "        tail = new_node\n",
        "      else:\n",
        "        tail.next = new_node\n",
        "        tail = new_node\n",
        "\n",
        "  def reverse(self, head):\n",
        "    if head.next is None:\n",
        "      print(head.element)\n",
        "    else:\n",
        "      self.reverse(head.next)\n",
        "      print(head.element)\n",
        "\n",
        "  def reverse_print(self):\n",
        "    return self.reverse(self.head)\n",
        "\n",
        "\n",
        "array = [10,20,30,40]\n",
        "listlinked = linklist(array)\n",
        "listlinked.reverse_print()"
      ],
      "metadata": {
        "colab": {
          "base_uri": "https://localhost:8080/"
        },
        "id": "um-fW4_n_FSC",
        "outputId": "58d57ab4-1fb9-44cc-e40e-b223d35cf21b"
      },
      "execution_count": 8,
      "outputs": [
        {
          "output_type": "stream",
          "name": "stdout",
          "text": [
            "40\n",
            "30\n",
            "20\n",
            "10\n"
          ]
        }
      ]
    },
    {
      "cell_type": "code",
      "source": [
        "def hocBuilder(height):\n",
        "    if height == 0:\n",
        "        return 0\n",
        "    elif height == 1:\n",
        "        return 8\n",
        "    else:\n",
        "        return 5+hocBuilder(height-1)\n",
        "\n",
        "\n",
        "height = int(input())\n",
        "print(hocBuilder(height))"
      ],
      "metadata": {
        "colab": {
          "base_uri": "https://localhost:8080/"
        },
        "id": "oDdpSfEH_Nj8",
        "outputId": "adffcda9-5426-45b6-a3a0-b3d7d645007f"
      },
      "execution_count": 9,
      "outputs": [
        {
          "output_type": "stream",
          "name": "stdout",
          "text": [
            "3\n",
            "18\n"
          ]
        }
      ]
    },
    {
      "cell_type": "code",
      "source": [
        "#4(a)\n",
        "def outter_recurssion(n):\n",
        "  if n == 0:\n",
        "    return n\n",
        "  \n",
        "  outter_recurssion(n-1)\n",
        "  print(n,end=\" \")\n",
        "\n",
        "\n",
        "def inner_recurssion(n):\n",
        "  if n == 0:\n",
        "    return n\n",
        "  \n",
        "  inner_recurssion(n-1)\n",
        "  outter_recurssion(n)\n",
        "  print()\n",
        "\n",
        "n = int(input())\n",
        "inner_recurssion(n)\n",
        "  "
      ],
      "metadata": {
        "colab": {
          "base_uri": "https://localhost:8080/"
        },
        "id": "cLOLQH4h_QlU",
        "outputId": "d92aa6d3-323b-418d-9dc8-9f8b0cb521d3"
      },
      "execution_count": 10,
      "outputs": [
        {
          "output_type": "stream",
          "name": "stdout",
          "text": [
            "5\n",
            "1 \n",
            "1 2 \n",
            "1 2 3 \n",
            "1 2 3 4 \n",
            "1 2 3 4 5 \n"
          ]
        }
      ]
    },
    {
      "cell_type": "code",
      "source": [
        "#4(b)\n",
        "def outter_recurssion(n):\n",
        "  if n == 0:\n",
        "    return n\n",
        "  else:  \n",
        "    outter_recurssion(n-1)\n",
        "    print(n,end=\"\")\n",
        "\n",
        "def inner_recurssion(n,i):\n",
        "  if n == 0:\n",
        "    return n \n",
        "  else:  \n",
        "    space(n-1)\n",
        "    outter_recurssion(i-n+1)\n",
        "    print()\n",
        "    inner_recurssion(n-1,i)\n",
        "\n",
        "def space(n):\n",
        "  if n == 0:\n",
        "    return 0\n",
        "  else:\n",
        "    space(n - 1)\n",
        "    print(\"\", end=\"\")\n",
        "\n",
        "n = int(input())\n",
        "inner_recurssion(n,n)"
      ],
      "metadata": {
        "colab": {
          "base_uri": "https://localhost:8080/"
        },
        "id": "4C9RlcPQ_XCr",
        "outputId": "1c3d3678-a20f-466b-e589-4c123c325982"
      },
      "execution_count": 14,
      "outputs": [
        {
          "output_type": "stream",
          "name": "stdout",
          "text": [
            "5\n",
            "1\n",
            "12\n",
            "123\n",
            "1234\n",
            "12345\n"
          ]
        }
      ]
    },
    {
      "cell_type": "code",
      "source": [
        "#5\n",
        "class FinalQ: \n",
        "\n",
        "\n",
        "  def print(self,array,idx): \n",
        "\n",
        "   if(idx<len(array)): \n",
        "    profit = self.calcProfit(array[idx])  \n",
        "    print(\"Investment: ${}, Profit: ${}\".format(array[idx], profit))\n",
        "    self.print(array,idx+1)\n",
        "\n",
        "  def calcProfit(self,investment): \n",
        "    if investment == 25000:\n",
        "      return 0\n",
        "\n",
        "    if investment > 25000 and investment <= 100000:\n",
        "        return 45 + self.calcProfit(investment-1000)\n",
        "    else:\n",
        "       investment > 100000\n",
        "       return 80 + self.calcProfit(investment-1000)\n",
        "    \n",
        "  \n",
        "#Tester \n",
        "array=[25000,100000,250000,350000] \n",
        "f = FinalQ() \n",
        "f.print(array,0)\n"
      ],
      "metadata": {
        "id": "Pa4FqxU__0ej",
        "outputId": "e72296b7-1cfd-492e-e138-476cad0d4e22",
        "colab": {
          "base_uri": "https://localhost:8080/"
        }
      },
      "execution_count": 15,
      "outputs": [
        {
          "output_type": "stream",
          "name": "stdout",
          "text": [
            "Investment: $25000, Profit: $0\n",
            "Investment: $100000, Profit: $3375\n",
            "Investment: $250000, Profit: $15375\n",
            "Investment: $350000, Profit: $23375\n"
          ]
        }
      ]
    },
    {
      "cell_type": "code",
      "source": [
        "#TASK 2\n",
        "def flatenlist(givenlist,newlist=[]):\n",
        " \n",
        "  if givenlist==[]:\n",
        "   \n",
        "    return 0\n",
        "  else:\n",
        "    if type(givenlist[0])==list:\n",
        "       flatenlist(givenlist[0],newlist)\n",
        "     \n",
        "    else:\n",
        "      newlist.append(givenlist[0])\n",
        "    \n",
        "  flatenlist(givenlist[1:],newlist)\n",
        "  return newlist\n",
        "\n",
        "print(flatenlist([1, [2, [3, [4], 5], 6], 7, 8, [9, [[10, 11], 12], 13], 14, [15, [16, [17]]]]))"
      ],
      "metadata": {
        "id": "6bRIEWpp_3MT",
        "outputId": "15cbdad0-d399-4333-8813-ebfc80dcfd20",
        "colab": {
          "base_uri": "https://localhost:8080/"
        }
      },
      "execution_count": 16,
      "outputs": [
        {
          "output_type": "stream",
          "name": "stdout",
          "text": [
            "[1, 2, 3, 4, 5, 6, 7, 8, 9, 10, 11, 12, 13, 14, 15, 16, 17]\n"
          ]
        }
      ]
    }
  ]
}