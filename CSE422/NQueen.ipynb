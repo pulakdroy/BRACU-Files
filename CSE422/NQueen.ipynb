{
  "nbformat": 4,
  "nbformat_minor": 0,
  "metadata": {
    "colab": {
      "provenance": []
    },
    "kernelspec": {
      "name": "python3",
      "display_name": "Python 3"
    }
  },
  "cells": [
    {
      "cell_type": "code",
      "metadata": {
        "id": "1N-3JdGCXNux",
        "colab": {
          "base_uri": "https://localhost:8080/"
        },
        "outputId": "ca954e2e-a63c-4fce-997b-265501a01bc8"
      },
      "source": [
        "print(\"Hello World\")"
      ],
      "execution_count": null,
      "outputs": [
        {
          "output_type": "stream",
          "name": "stdout",
          "text": [
            "Hello World\n"
          ]
        }
      ]
    },
    {
      "cell_type": "code",
      "metadata": {
        "id": "dUa_eqJbXcvJ",
        "colab": {
          "base_uri": "https://localhost:8080/"
        },
        "outputId": "a7ee1629-3206-4809-f234-717f689e74de"
      },
      "source": [
        "2+3"
      ],
      "execution_count": null,
      "outputs": [
        {
          "output_type": "execute_result",
          "data": {
            "text/plain": [
              "5"
            ]
          },
          "metadata": {},
          "execution_count": 2
        }
      ]
    },
    {
      "cell_type": "code",
      "metadata": {
        "id": "u_gpCN1odVNp"
      },
      "source": [
        "import numpy as np\n"
      ],
      "execution_count": null,
      "outputs": []
    },
    {
      "cell_type": "markdown",
      "metadata": {
        "id": "SaPvzmjvYXYT"
      },
      "source": [
        "# NQueen Problem\n",
        "In a N-queen problem, a nxn chess grid is given where one has to put n queens in such a way that no two queens are attacking each other. Here n is an integer > 3.\n",
        "\n",
        "## Assignment Problem\n",
        "\n",
        "The N-Queen problem is firstly an assignment problem. There are similar problems.\n",
        "\n",
        "1.   Graph Coloring Problem\n",
        "2.   Vehicle Routing Problem\n",
        "3.   Routine Assignment Problem\n",
        "4.   Machine allocation problem in Cloud\n",
        "\n",
        "\n",
        "### What are the variables?\n",
        "Here, the queens are variables. For each of the queens, we have to assign them a row and a column.\n",
        "\n",
        "### What are their domains / values that they can take?\n",
        "\n",
        "Q =[1,2,1,3]\n",
        "\n",
        "Q0 = 0,1\n",
        "\n",
        "Q1 = 1,2\n",
        "\n",
        "Q2 = 2,1\n",
        "\n",
        "Q3 = 3,3\n",
        "\n",
        "\n",
        "## Constraint satisfaction problem\n",
        "There are a number of constraints for this problem:\n",
        "\n",
        "1. Row Constraint\n",
        "2. Column Constraint\n",
        "3. Diagonal Constraint\n",
        "\n",
        "We can easily incorporate the constraints (row constraint) to the variable encodings to reduce the domain.\n",
        "\n",
        "## Optimization Problem\n",
        "Sometimes, we have an optimization component as well. We often get an objective fucntion which can be thought of as a maximization/minimization problem.\n",
        "\n",
        "In case of N-Queen, we can come up with a objective function as well. Number of constraint violations -- we can minimize it. In this way, we get an optimization problem."
      ]
    },
    {
      "cell_type": "code",
      "metadata": {
        "id": "LuNhSnuPYVW7"
      },
      "source": [
        "def printSolution(x):\n",
        "  if x is None:\n",
        "    print(\"No Solution\")\n",
        "    return\n",
        "  for i in range(len(x)):\n",
        "    for j in range(len(x)):\n",
        "      if j == x[i]:\n",
        "        print(\"Q\",end=' ')\n",
        "      else:\n",
        "        print(\"0\",end=' ')\n",
        "    print(\"\")"
      ],
      "execution_count": null,
      "outputs": []
    },
    {
      "cell_type": "code",
      "metadata": {
        "id": "Lk82Kx-FZzYJ",
        "colab": {
          "base_uri": "https://localhost:8080/"
        },
        "outputId": "fce18b06-b7c3-4111-90d0-cbd3e6642796"
      },
      "source": [
        "printSolution([1,2,1,3])"
      ],
      "execution_count": null,
      "outputs": [
        {
          "output_type": "stream",
          "name": "stdout",
          "text": [
            "0 Q 0 0 \n",
            "0 0 Q 0 \n",
            "0 Q 0 0 \n",
            "0 0 0 Q \n"
          ]
        }
      ]
    },
    {
      "cell_type": "code",
      "metadata": {
        "id": "n5wFcrrdautW",
        "colab": {
          "base_uri": "https://localhost:8080/"
        },
        "outputId": "6b5cd845-509b-4d9a-95ad-39701af27f46"
      },
      "source": [
        "printSolution([2,0,3,1])"
      ],
      "execution_count": null,
      "outputs": [
        {
          "output_type": "stream",
          "name": "stdout",
          "text": [
            "0 0 Q 0 \n",
            "Q 0 0 0 \n",
            "0 0 0 Q \n",
            "0 Q 0 0 \n"
          ]
        }
      ]
    },
    {
      "cell_type": "markdown",
      "metadata": {
        "id": "ZVwxcGbzCORY"
      },
      "source": [
        "### Satisfy\n",
        "\n",
        "This function takes as input the solution to the problem, which is an assignment of all the varialbes. Then it checks for all the constraints if they are satisfied or not."
      ]
    },
    {
      "cell_type": "code",
      "metadata": {
        "id": "cvZgyBCHdR0r"
      },
      "source": [
        "def satisfy(x):\n",
        "  #flag=True\n",
        "  n = len(x)\n",
        "  for i in range(n-1):\n",
        "    #print(i)\n",
        "    for j in range(i+1,n):\n",
        "      #print(j)\n",
        "      if x[i]== x[j]:  # column same\n",
        "        return False\n",
        "      if abs (x[i]-x[j]) == abs(i-j): # diagonal case\n",
        "        return False\n",
        "  return True"
      ],
      "execution_count": null,
      "outputs": []
    },
    {
      "cell_type": "code",
      "metadata": {
        "id": "Wp8LBEoTd2XG",
        "colab": {
          "base_uri": "https://localhost:8080/"
        },
        "outputId": "402d92c5-43d5-443f-958d-7cab7893576e"
      },
      "source": [
        "x=[2,0,3,1]\n",
        "printSolution(x)\n",
        "satisfy(x)"
      ],
      "execution_count": null,
      "outputs": [
        {
          "output_type": "stream",
          "name": "stdout",
          "text": [
            "0 0 Q 0 \n",
            "Q 0 0 0 \n",
            "0 0 0 Q \n",
            "0 Q 0 0 \n"
          ]
        },
        {
          "output_type": "execute_result",
          "data": {
            "text/plain": [
              "True"
            ]
          },
          "metadata": {},
          "execution_count": 8
        }
      ]
    },
    {
      "cell_type": "markdown",
      "metadata": {
        "id": "Kb21TVbOBeUT"
      },
      "source": [
        "## Monte Carlo Sampling\n",
        "\n",
        "The idea of Monte Carlo samppling is very simple, It randomly generates values for all the variables. Here in the case of N-Queen problem it is to generate the column numbers for all the queens. Note that, the positions here are integers. That is why it is possible to use a integer random number generator. Now, after all the values are generated, then we have to check if the generated solution satisfy all the constraints or not. We use the satisfy function for that."
      ]
    },
    {
      "cell_type": "code",
      "metadata": {
        "id": "-9OrD1yUbYNN"
      },
      "source": [
        "import random\n",
        "\n",
        "def MonteCarlo(n,maxSteps):\n",
        "  for i in range(maxSteps):\n",
        "    x=np.zeros(n) # x =[]\n",
        "    for j in range(n):\n",
        "      value= random.randint(0, n-1)\n",
        "      x[j]=value # x.append(value)\n",
        "    #printSolution(x)\n",
        "    if satisfy(x):\n",
        "      return x\n",
        "  return None\n",
        "\n"
      ],
      "execution_count": null,
      "outputs": []
    },
    {
      "cell_type": "code",
      "metadata": {
        "id": "ixVtPCMmcQnf",
        "colab": {
          "base_uri": "https://localhost:8080/"
        },
        "outputId": "0020ef50-1ba9-4169-dbaf-bb71af88653c"
      },
      "source": [
        "printSolution(MonteCarlo(6,500))"
      ],
      "execution_count": null,
      "outputs": [
        {
          "output_type": "stream",
          "name": "stdout",
          "text": [
            "No Solution\n"
          ]
        }
      ]
    },
    {
      "cell_type": "code",
      "metadata": {
        "id": "6oSku5czFk4C",
        "colab": {
          "base_uri": "https://localhost:8080/"
        },
        "outputId": "e5869e1d-11a6-47b0-dcb9-1bcea3bd21dd"
      },
      "source": [
        "np.zeros(10)"
      ],
      "execution_count": null,
      "outputs": [
        {
          "output_type": "execute_result",
          "data": {
            "text/plain": [
              "array([0., 0., 0., 0., 0., 0., 0., 0., 0., 0.])"
            ]
          },
          "metadata": {},
          "execution_count": 11
        }
      ]
    },
    {
      "cell_type": "code",
      "metadata": {
        "id": "a_JFpFBRcT5w",
        "colab": {
          "base_uri": "https://localhost:8080/"
        },
        "outputId": "5dee9ded-e92b-4202-a5f2-2c79619ebc24"
      },
      "source": [
        "abs(-3)"
      ],
      "execution_count": null,
      "outputs": [
        {
          "output_type": "execute_result",
          "data": {
            "text/plain": [
              "3"
            ]
          },
          "metadata": {},
          "execution_count": 12
        }
      ]
    },
    {
      "cell_type": "markdown",
      "metadata": {
        "id": "6c6zSYVWecc0"
      },
      "source": [
        "## CSPlib\n",
        "\n",
        "[Click Here](http://www.csplib.org/Problems/categories.html)\n",
        "\n",
        "You can select any problem from there or create a real  life problem of your own to solve."
      ]
    },
    {
      "cell_type": "markdown",
      "metadata": {
        "id": "ynHTItIgGpk3"
      },
      "source": [
        "## Optimization\n",
        "\n",
        "We will write the objective function\n",
        "\n",
        "fitness(x) return number of constraints violated\n",
        "\n",
        "best fitness = 0 # no constraints are violated"
      ]
    },
    {
      "cell_type": "code",
      "metadata": {
        "id": "Uwfa5vFo2AVt"
      },
      "source": [
        "def fitness(x):\n",
        "  f = 0\n",
        "  n = len(x)\n",
        "  for i in range(n-1):\n",
        "    #print(i)\n",
        "    for j in range(i+1,n):\n",
        "      #print(j)\n",
        "      if x[i]== x[j]:  # column same\n",
        "        f = f + 1\n",
        "      if abs (x[i]-x[j]) == abs(i-j): # diagonal case\n",
        "        f = f + 1\n",
        "  return f"
      ],
      "execution_count": null,
      "outputs": []
    },
    {
      "cell_type": "code",
      "metadata": {
        "id": "gTz9cJYB2DXA",
        "colab": {
          "base_uri": "https://localhost:8080/"
        },
        "outputId": "8cf98873-7554-46da-91ea-b882ce1a1d4f"
      },
      "source": [
        "fitness([0,5,3,1,2,6,4])"
      ],
      "execution_count": null,
      "outputs": [
        {
          "output_type": "execute_result",
          "data": {
            "text/plain": [
              "5"
            ]
          },
          "metadata": {},
          "execution_count": 14
        }
      ]
    },
    {
      "cell_type": "code",
      "metadata": {
        "id": "rIVCnA7WHbDm",
        "colab": {
          "base_uri": "https://localhost:8080/"
        },
        "outputId": "67cf3d14-b112-4dfa-af86-0f3edcde7b4e"
      },
      "source": [
        "satisfy([2,4,1,3,0])"
      ],
      "execution_count": null,
      "outputs": [
        {
          "output_type": "execute_result",
          "data": {
            "text/plain": [
              "True"
            ]
          },
          "metadata": {},
          "execution_count": 15
        }
      ]
    },
    {
      "cell_type": "code",
      "metadata": {
        "id": "h60a_LfmHfoa",
        "colab": {
          "base_uri": "https://localhost:8080/",
          "height": 430
        },
        "outputId": "9c61aafd-bae9-48b5-a704-785d01d747fd"
      },
      "source": [
        "import matplotlib.pyplot as plt\n",
        "plt.plot([0,1,2,3],[4,5,13,70])\n",
        "#plt.scatter([0,1,2,3],[4,5,13,70])\n",
        "#plt.bar([0,1,2,3],[4,5,13,70])\n",
        "plt.show()"
      ],
      "execution_count": null,
      "outputs": [
        {
          "output_type": "display_data",
          "data": {
            "text/plain": [
              "<Figure size 640x480 with 1 Axes>"
            ],
            "image/png": "[encoded data removed]"
          },
          "metadata": {}
        }
      ]
    },
    {
      "cell_type": "markdown",
      "metadata": {
        "id": "LETvTrZZJUzy"
      },
      "source": [
        "## Neighborhood\n",
        "\n",
        "For our N-queen, what is neighborhood?\n",
        "\n",
        "x = [0 , 1, 1, 2]\n",
        "\n",
        "**action  = single queen random move (singleFlip)**\n",
        "\n",
        "x = [ 1, 1, 1, 2]\n",
        "x = [ 2, 1, 1, 2]\n",
        "x = [ 3, 1, 1, 2]\n",
        "\n",
        "x = [ 0, 0, 1, 2]\n",
        "x = [ 0, 2, 1, 2]\n",
        "x = [ 0, 3, 1, 2]\n",
        "\n",
        "x = [0 , 1, 0, 2]\n",
        "x = [0 , 1, 2, 2]\n",
        "x = [0 , 1, 3, 2]\n",
        "\n",
        "\n",
        "x = [0 , 1, 1, 0]\n",
        "x = [0 , 1, 1, 1]\n",
        "x = [0 , 1, 1, 3]\n",
        "\n",
        "So in total = 4x3 = 12 solutions in the neighborhood\n"
      ]
    },
    {
      "cell_type": "markdown",
      "metadata": {
        "id": "gHXargFWLUk7"
      },
      "source": [
        "What will be the size of the neighborhood if N=6? Lets assume action is **single queen random move**.\n",
        "\n",
        "6x5 = 30\n",
        "\n",
        "What will be the size of the neighborhood if N=6? Lets assume action is **any queen random move**.\n",
        "\n",
        "5 x 5 x 5 x 5 x 5 x 5 = 5^6\n",
        "\n"
      ]
    },
    {
      "cell_type": "code",
      "metadata": {
        "id": "iJWldonlLT62"
      },
      "source": [
        "import copy\n",
        "def singleFlip(x):\n",
        "  x_copy = copy.deepcopy(x) # simply copies the elements of x into x_copy\n",
        "  n = x_copy.shape[0] # tries to find out the value of n\n",
        "\n",
        "  queen = random.randint(0, n-1) # selects a random queen\n",
        "  position = random.randint(0, n-1)  # selects a random position\n",
        "\n",
        "  x_copy[queen] = position\n",
        "  return x_copy\n"
      ],
      "execution_count": null,
      "outputs": []
    },
    {
      "cell_type": "code",
      "metadata": {
        "id": "CWgVSuPPIfFA",
        "colab": {
          "base_uri": "https://localhost:8080/"
        },
        "outputId": "481be281-91be-43c6-ec3e-a78491ec221f"
      },
      "source": [
        "print(singleFlip(np.asarray([0 , 1, 1, 2])))"
      ],
      "execution_count": null,
      "outputs": [
        {
          "output_type": "stream",
          "name": "stdout",
          "text": [
            "[0 3 1 2]\n"
          ]
        }
      ]
    },
    {
      "cell_type": "markdown",
      "metadata": {
        "id": "WFaMcWzdNjS9"
      },
      "source": [
        "# Random Neighborhood Search"
      ]
    },
    {
      "cell_type": "code",
      "metadata": {
        "id": "NpaxSiUwFLBM"
      },
      "source": [
        "# initialization function\n",
        "def init(n):\n",
        "  x = np.zeros(n)\n",
        "  for j in range(n):\n",
        "      x[j]=random.randint(0, n-1)\n",
        "  return x"
      ],
      "execution_count": null,
      "outputs": []
    },
    {
      "cell_type": "code",
      "metadata": {
        "id": "tSBwxWDjNJw8"
      },
      "source": [
        "def RandomNeighborhoodSearch(n,maxSteps):\n",
        "\n",
        "  x_axis=[]\n",
        "  y_axis=[]\n",
        "\n",
        "  # initialization\n",
        "  x = init(n)\n",
        "  # first check if the initilization was the solution\n",
        "  if satisfy(x):\n",
        "    return x\n",
        "\n",
        "  # otherwise go for the loop\n",
        "  for i in range(maxSteps):\n",
        "    x_new = singleFlip (x) # now apply the action to get a new solution from the neighborhood\n",
        "\n",
        "    x_axis.append(i)\n",
        "    y_axis.append(fitness(x_new))\n",
        "\n",
        "    if satisfy(x_new):\n",
        "      return [x_new,x_axis,y_axis]\n",
        "    x = x_new  # otherwise x_new is your new solution\n",
        "\n",
        "  # if it is here that means no solutions were found\n",
        "  return [None,x_axis,y_axis]\n"
      ],
      "execution_count": null,
      "outputs": []
    },
    {
      "cell_type": "code",
      "metadata": {
        "id": "Tjzx70JqPjow",
        "colab": {
          "base_uri": "https://localhost:8080/",
          "height": 534
        },
        "outputId": "dede57cf-1c54-4c0b-cb96-08aece1914b3"
      },
      "source": [
        "x,x_axis,y_axis = RandomNeighborhoodSearch(6,10000)\n",
        "plt.plot(x_axis,y_axis)\n",
        "plt.show()\n",
        "printSolution(x)"
      ],
      "execution_count": null,
      "outputs": [
        {
          "output_type": "display_data",
          "data": {
            "text/plain": [
              "<Figure size 640x480 with 1 Axes>"
            ],
            "image/png": "[encoded data removed]"
          },
          "metadata": {}
        },
        {
          "output_type": "stream",
          "name": "stdout",
          "text": [
            "0 0 0 0 Q 0 \n",
            "0 0 Q 0 0 0 \n",
            "Q 0 0 0 0 0 \n",
            "0 0 0 0 0 Q \n",
            "0 0 0 Q 0 0 \n",
            "0 Q 0 0 0 0 \n"
          ]
        }
      ]
    },
    {
      "cell_type": "markdown",
      "metadata": {
        "id": "1CdWJEDwTGzd"
      },
      "source": [
        "How can we compare two algorithms?\n",
        "1. Average Time\n",
        "2. Average Iteration\n",
        "3. Averate Success Rate"
      ]
    },
    {
      "cell_type": "code",
      "metadata": {
        "id": "A-wHsUWgPonc"
      },
      "source": [
        "def HillDescent(n,maxSteps):  # HillClimbing\n",
        "\n",
        "  x_axis=[]\n",
        "  y_axis=[]\n",
        "\n",
        "  # initialization\n",
        "  x = init(n)\n",
        "  # first check if the initilization was the solution\n",
        "  if satisfy(x):\n",
        "    return x\n",
        "\n",
        "  # otherwise go for the loop\n",
        "  for i in range(maxSteps):\n",
        "    x_new = singleFlip (x) # now apply the action to get a new solution from the neighborhood\n",
        "\n",
        "    x_axis.append(i)\n",
        "    y_axis.append(fitness(x))\n",
        "\n",
        "    if satisfy(x_new):\n",
        "      return [x_new,x_axis,y_axis]\n",
        "    if fitness(x_new) <= fitness(x):\n",
        "      x = x_new  # otherwise x_new is your new solution\n",
        "    #print(fitness(x))\n",
        "\n",
        "  # if it is here that means no solutions were found\n",
        "  return [None,x_axis,y_axis]\n"
      ],
      "execution_count": null,
      "outputs": []
    },
    {
      "cell_type": "code",
      "metadata": {
        "id": "qvWpf64IT-iF",
        "colab": {
          "base_uri": "https://localhost:8080/",
          "height": 778
        },
        "outputId": "25133632-0802-4915-f00d-a7078769a418"
      },
      "source": [
        "x,x_axis,y_axis = HillDescent(20,10000)\n",
        "plt.plot(x_axis,y_axis)\n",
        "plt.show()\n",
        "printSolution(x)"
      ],
      "execution_count": null,
      "outputs": [
        {
          "output_type": "display_data",
          "data": {
            "text/plain": [
              "<Figure size 640x480 with 1 Axes>"
            ],
            "image/png": "[encoded data removed]"
          },
          "metadata": {}
        },
        {
          "output_type": "stream",
          "name": "stdout",
          "text": [
            "0 0 0 0 0 0 0 0 0 0 0 0 0 Q 0 0 0 0 0 0 \n",
            "0 0 0 0 0 0 0 0 0 0 Q 0 0 0 0 0 0 0 0 0 \n",
            "0 0 0 0 0 0 Q 0 0 0 0 0 0 0 0 0 0 0 0 0 \n",
            "0 0 0 Q 0 0 0 0 0 0 0 0 0 0 0 0 0 0 0 0 \n",
            "0 0 0 0 0 0 0 0 0 0 0 Q 0 0 0 0 0 0 0 0 \n",
            "0 0 0 0 0 0 0 0 0 0 0 0 0 0 0 0 Q 0 0 0 \n",
            "0 0 0 0 0 0 0 0 0 0 0 0 0 0 Q 0 0 0 0 0 \n",
            "0 0 0 0 0 Q 0 0 0 0 0 0 0 0 0 0 0 0 0 0 \n",
            "0 Q 0 0 0 0 0 0 0 0 0 0 0 0 0 0 0 0 0 0 \n",
            "0 0 0 0 0 0 0 0 0 0 0 0 0 0 0 0 0 0 0 Q \n",
            "0 0 0 0 Q 0 0 0 0 0 0 0 0 0 0 0 0 0 0 0 \n",
            "0 0 0 0 0 0 0 0 Q 0 0 0 0 0 0 0 0 0 0 0 \n",
            "0 0 0 0 0 0 0 0 0 0 0 0 0 0 0 0 0 0 Q 0 \n",
            "0 0 0 0 0 0 0 0 0 0 0 0 Q 0 0 0 0 0 0 0 \n",
            "0 0 Q 0 0 0 0 0 0 0 0 0 0 0 0 0 0 0 0 0 \n",
            "0 0 0 0 0 0 0 0 0 0 0 0 0 0 0 0 0 Q 0 0 \n",
            "0 0 0 0 0 0 0 Q 0 0 0 0 0 0 0 0 0 0 0 0 \n",
            "0 0 0 0 0 0 0 0 0 Q 0 0 0 0 0 0 0 0 0 0 \n",
            "Q 0 0 0 0 0 0 0 0 0 0 0 0 0 0 0 0 0 0 0 \n",
            "0 0 0 0 0 0 0 0 0 0 0 0 0 0 0 Q 0 0 0 0 \n"
          ]
        }
      ]
    },
    {
      "cell_type": "markdown",
      "metadata": {
        "id": "TbU7ZzXIWEQc"
      },
      "source": [
        "## Stagnation\n",
        "\n",
        "Sometimes our search algorithm gets stuck\n",
        "\n",
        "\n",
        "*   Local Minima / Maxima (In a neighbor if a solution's fitness is minimum then it is called local minima)\n",
        "*   Shoulder / Plateau\n",
        "\n",
        "## How to overcome stagnation\n",
        "*  take bad steps\n",
        "*  restart the search after a certain time\n",
        "*  keep memory, and go back to a previous solution\n",
        "\n",
        "\n"
      ]
    },
    {
      "cell_type": "markdown",
      "metadata": {
        "id": "LVFcTt-Jadfl"
      },
      "source": [
        "## Lets learn a new action / new Neighborhood\n",
        "\n",
        "* Recombination\n",
        "\n",
        "\n",
        "[0,1,  ||  3,4,5,2]   and [5,4,|| 3,1,0,2]  parents\n",
        "\n",
        "[0,1,3,1,0,2] and [5,4,3,4,5,2]  children"
      ]
    },
    {
      "cell_type": "code",
      "metadata": {
        "id": "M_vLTyBbUFvK"
      },
      "source": [
        "# 0 c 1 c 2 c 3 c 4 c 5\n",
        "def crossover(p1,p2):\n",
        "  n = p1.shape[0]\n",
        "  crossoverPoint = random.randint(1, n-1)\n",
        "  #print(crossoverPoint)\n",
        "  #print(np.concatenate((p1[:crossoverPoint],p2[crossoverPoint:]),axis=0))\n",
        "  #print(np.concatenate((p2[:crossoverPoint],p1[crossoverPoint:]),axis=0))\n",
        "  c1 = np.concatenate((p1[:crossoverPoint],p2[crossoverPoint:]),axis=0)\n",
        "  c2 = np.concatenate((p2[:crossoverPoint],p1[crossoverPoint:]),axis=0)\n",
        "\n",
        "  return [c1,c2]\n",
        "\n"
      ],
      "execution_count": null,
      "outputs": []
    },
    {
      "cell_type": "code",
      "metadata": {
        "id": "x-AnkxoieAth",
        "colab": {
          "base_uri": "https://localhost:8080/"
        },
        "outputId": "36deaef4-0808-4224-c82d-bbed9571e73f"
      },
      "source": [
        "c1,c2= crossover(np.asarray([0,1,3,4,2,5]),np.asarray([5,4,3,1,2,0]))\n",
        "print(c1)\n",
        "print(c2)"
      ],
      "execution_count": null,
      "outputs": [
        {
          "output_type": "stream",
          "name": "stdout",
          "text": [
            "[0 4 3 1 2 0]\n",
            "[5 1 3 4 2 5]\n"
          ]
        }
      ]
    },
    {
      "cell_type": "code",
      "metadata": {
        "id": "ppVjrjcXeK-2"
      },
      "source": [
        "a=[0,1,2,3,4,5,6]\n",
        "b=[7,8,9,10,11,12]"
      ],
      "execution_count": null,
      "outputs": []
    },
    {
      "cell_type": "code",
      "metadata": {
        "id": "r7-TKiCwemz7",
        "colab": {
          "base_uri": "https://localhost:8080/"
        },
        "outputId": "846c437d-576a-49ca-95f0-7d8f076c4f38"
      },
      "source": [
        "a[:5] + b[5:]"
      ],
      "execution_count": null,
      "outputs": [
        {
          "output_type": "execute_result",
          "data": {
            "text/plain": [
              "[0, 1, 2, 3, 4, 12]"
            ]
          },
          "metadata": {},
          "execution_count": 27
        }
      ]
    },
    {
      "cell_type": "code",
      "metadata": {
        "id": "KVb2yKpWep3j",
        "colab": {
          "base_uri": "https://localhost:8080/"
        },
        "outputId": "ef430469-2448-4847-89c9-517d1ad5c4dd"
      },
      "source": [
        "b[:2]+a[2:]"
      ],
      "execution_count": null,
      "outputs": [
        {
          "output_type": "execute_result",
          "data": {
            "text/plain": [
              "[7, 8, 2, 3, 4, 5, 6]"
            ]
          },
          "metadata": {},
          "execution_count": 28
        }
      ]
    },
    {
      "cell_type": "markdown",
      "metadata": {
        "id": "WDn6-hGoI8p7"
      },
      "source": [
        "## Genetic Algorithm\n",
        "\n",
        "* Single Point / Candidate Search : They maintain only single candidate x and improves over it (Hill Descent)\n",
        "\n",
        "* Population based search: They maintain a set of x and  improves over them (Genetic Algorithm)\n",
        "\n",
        "Exploration vs Exploitation"
      ]
    },
    {
      "cell_type": "code",
      "metadata": {
        "id": "VzKef_Xte7I_"
      },
      "source": [
        "def BasicGeneticAlgorithm(n,maxSteps,populationSize):\n",
        "  # initialization\n",
        "  P = [] # set of solutions, population\n",
        "  for i in range(populationSize):\n",
        "    x = init(n)\n",
        "    P.append(x)\n",
        "  # now check if the initial population has got the solution\n",
        "  for x in P:\n",
        "    if satisfy(x):\n",
        "      return x\n",
        "  # main loop\n",
        "  for i in range(maxSteps):\n",
        "    P_new =[]\n",
        "    # now start the loop for crossover\n",
        "    for j in range((int)(populationSize/2)):\n",
        "      p1 = P[random.randint(0, populationSize-1)]# select parent 1\n",
        "      p2 = P[random.randint(0, populationSize-1)]# select parent 2\n",
        "      # there is a risk that we might select same parents p1==p2\n",
        "      c1,c2=crossover(p1,p2)\n",
        "      # add these new offspring to the new population\n",
        "      P_new.append(c1)\n",
        "      P_new.append(c2)\n",
        "    # end of cross over\n",
        "\n",
        "    # one form could be that old ones die and new ones stay\n",
        "    for x in P_new:\n",
        "      if satisfy(x):\n",
        "        return x\n",
        "    # accepts the new generation as new population\n",
        "    P=P_new\n",
        "\n",
        "  return False"
      ],
      "execution_count": null,
      "outputs": []
    },
    {
      "cell_type": "code",
      "metadata": {
        "id": "UYhan00PKiqx",
        "colab": {
          "base_uri": "https://localhost:8080/"
        },
        "outputId": "1bbcbe4b-89eb-4e3d-9e1a-4c0100fb7c0c"
      },
      "source": [
        "BasicGeneticAlgorithm(5,20000,50)"
      ],
      "execution_count": null,
      "outputs": [
        {
          "output_type": "execute_result",
          "data": {
            "text/plain": [
              "array([0., 3., 1., 4., 2.])"
            ]
          },
          "metadata": {},
          "execution_count": 39
        }
      ]
    },
    {
      "cell_type": "code",
      "metadata": {
        "id": "exr28JKAQFYP"
      },
      "source": [
        "def GeneticAlgorithm_1(n,maxSteps,populationSize):\n",
        "  x_axis=[]\n",
        "  y_axis=[]\n",
        "\n",
        "  # initialization\n",
        "  P = [] # set of solutions, population\n",
        "  for i in range(populationSize):\n",
        "    x = init(n)\n",
        "    P.append(x)\n",
        "  # now check if the initial population has got the solution\n",
        "  for x in P:\n",
        "    if satisfy(x):\n",
        "      return [x,x_axis,y_axis]\n",
        "  # main loop\n",
        "  for i in range(maxSteps):\n",
        "    P_new =[]\n",
        "    # now start the loop for crossover\n",
        "    for j in range((int)(populationSize/2)):\n",
        "      p1 = P[random.randint(0, populationSize-1)]# select parent 1\n",
        "      p2 = P[random.randint(0, populationSize-1)]# select parent 2\n",
        "      # there is a risk that we might select same parents p1==p2\n",
        "      c1,c2=crossover(p1,p2)\n",
        "      # add these new offspring to the new population\n",
        "      P_new.append(c1)\n",
        "      P_new.append(c2)\n",
        "    # end of cross over\n",
        "\n",
        "    # one form could be that old ones die and new ones stay\n",
        "    for x in P_new:\n",
        "      if satisfy(x):\n",
        "        return [x,x_axis,y_axis]\n",
        "\n",
        "    # selection according to fitness - Elitism / Exploitation\n",
        "    P_merge = P + P_new\n",
        "    P_merge.sort(key=fitness)\n",
        "    P = P_merge[:populationSize]\n",
        "\n",
        "    x_axis.append(i)\n",
        "    y_axis.append(fitness(P[0]))\n",
        "\n",
        "  return [None,x_axis,y_axis]"
      ],
      "execution_count": null,
      "outputs": []
    },
    {
      "cell_type": "code",
      "metadata": {
        "id": "7fPslk7IRGDS",
        "colab": {
          "base_uri": "https://localhost:8080/",
          "height": 465
        },
        "outputId": "83b4f332-7555-46de-c7f2-7cca753be31a"
      },
      "source": [
        "x,x_axis,y_axis= GeneticAlgorithm_1(5,5000,10)\n",
        "plt.plot(x_axis,y_axis)\n",
        "plt.show()\n",
        "printSolution(x)\n",
        "print(len(x_axis))"
      ],
      "execution_count": null,
      "outputs": [
        {
          "output_type": "display_data",
          "data": {
            "text/plain": [
              "<Figure size 640x480 with 1 Axes>"
            ],
            "image/png": "[encoded data removed]"
          },
          "metadata": {}
        },
        {
          "output_type": "stream",
          "name": "stdout",
          "text": [
            "No Solution\n",
            "5000\n"
          ]
        }
      ]
    },
    {
      "cell_type": "code",
      "metadata": {
        "id": "FoHguZagRJt3"
      },
      "source": [
        "a = [10,20,5,4]"
      ],
      "execution_count": null,
      "outputs": []
    },
    {
      "cell_type": "code",
      "metadata": {
        "id": "FF87ni0GRy-W",
        "colab": {
          "base_uri": "https://localhost:8080/"
        },
        "outputId": "2b0a5175-981f-4f4a-ba85-46a3281c8cc8"
      },
      "source": [
        "a.sort()\n",
        "print(a)"
      ],
      "execution_count": null,
      "outputs": [
        {
          "output_type": "stream",
          "name": "stdout",
          "text": [
            "[4, 5, 10, 20]\n"
          ]
        }
      ]
    },
    {
      "cell_type": "code",
      "metadata": {
        "id": "YGTHA6FHR3Qu"
      },
      "source": [
        "b = [1,2,3,4,5,6,7,8,9,10]"
      ],
      "execution_count": null,
      "outputs": []
    },
    {
      "cell_type": "code",
      "metadata": {
        "id": "5TFqaPwwSXoC",
        "colab": {
          "base_uri": "https://localhost:8080/"
        },
        "outputId": "a380d2d3-2c46-4830-b6b4-f2f7f21d3d02"
      },
      "source": [
        "b[:5]"
      ],
      "execution_count": null,
      "outputs": [
        {
          "output_type": "execute_result",
          "data": {
            "text/plain": [
              "[1, 2, 3, 4, 5]"
            ]
          },
          "metadata": {},
          "execution_count": 45
        }
      ]
    },
    {
      "cell_type": "code",
      "metadata": {
        "id": "iKTiYlsSSYw6"
      },
      "source": [
        "def GeneticAlgorithm_2(n,maxSteps,populationSize):\n",
        "  x_axis=[]\n",
        "  y_axis=[]\n",
        "\n",
        "  # initialization\n",
        "  P = [] # set of solutions, population\n",
        "  for i in range(populationSize):\n",
        "    x = init(n)\n",
        "    P.append(x)\n",
        "  # now check if the initial population has got the solution\n",
        "  for x in P:\n",
        "    if satisfy(x):\n",
        "      return [x,x_axis,y_axis]\n",
        "  # main loop\n",
        "  for i in range(maxSteps):\n",
        "    P_new =[]\n",
        "    # now start the loop for crossover & mutation\n",
        "    for j in range((int)(populationSize/2)):\n",
        "      p1 = P[random.randint(0, populationSize-1)]# select parent 1\n",
        "      p2 = P[random.randint(0, populationSize-1)]# select parent 2\n",
        "      # there is a risk that we might select same parents p1==p2\n",
        "      c1,c2=crossover(p1,p2)\n",
        "      # add these new offspring to the new population\n",
        "      P_new.append(c1)\n",
        "      P_new.append(c2)\n",
        "\n",
        "      P_new.append(singleFlip(c1))\n",
        "      P_new.append(singleFlip(c2))\n",
        "\n",
        "\n",
        "    # end of cross over\n",
        "\n",
        "    # one form could be that old ones die and new ones stay\n",
        "    for x in P_new:\n",
        "      if satisfy(x):\n",
        "        return [x,x_axis,y_axis]\n",
        "\n",
        "    # selection according to fitness - Elitism / Exploitation\n",
        "    P_merge = P + P_new\n",
        "    P_merge.sort(key=fitness)\n",
        "    P = P_merge[:populationSize]\n",
        "\n",
        "    x_axis.append(i)\n",
        "    y_axis.append(fitness(P[0]))\n",
        "\n",
        "  return [None,x_axis,y_axis]"
      ],
      "execution_count": null,
      "outputs": []
    },
    {
      "cell_type": "code",
      "metadata": {
        "id": "wnwL1T5cVzfp",
        "colab": {
          "base_uri": "https://localhost:8080/",
          "height": 621
        },
        "outputId": "dc4998aa-57ae-4671-cde1-9badd3836ba0"
      },
      "source": [
        "x,x_axis,y_axis= GeneticAlgorithm_2(10,5000,10)\n",
        "plt.plot(x_axis,y_axis)\n",
        "plt.show()\n",
        "printSolution(x)\n",
        "print(len(x_axis))"
      ],
      "execution_count": null,
      "outputs": [
        {
          "output_type": "display_data",
          "data": {
            "text/plain": [
              "<Figure size 640x480 with 1 Axes>"
            ],
            "image/png": "[encoded data removed]"
          },
          "metadata": {}
        },
        {
          "output_type": "stream",
          "name": "stdout",
          "text": [
            "0 0 0 0 0 0 0 Q 0 0 \n",
            "0 0 Q 0 0 0 0 0 0 0 \n",
            "Q 0 0 0 0 0 0 0 0 0 \n",
            "0 0 0 0 0 0 0 0 0 Q \n",
            "0 0 0 0 Q 0 0 0 0 0 \n",
            "0 0 0 0 0 0 0 0 Q 0 \n",
            "0 0 0 0 0 Q 0 0 0 0 \n",
            "0 0 0 Q 0 0 0 0 0 0 \n",
            "0 Q 0 0 0 0 0 0 0 0 \n",
            "0 0 0 0 0 0 Q 0 0 0 \n",
            "123\n"
          ]
        }
      ]
    },
    {
      "cell_type": "code",
      "metadata": {
        "id": "4GwvMkw_V1s2"
      },
      "source": [
        "def PopulationHillDescent(n,maxSteps,populationSize):  # HillClimbing\n",
        "\n",
        "  x_axis=[]\n",
        "  y_axis=[]\n",
        "\n",
        "  # initialization\n",
        "  P=[]\n",
        "  for i in range(populationSize):\n",
        "    P.append(init(n))\n",
        "\n",
        "  # first check if the initilization was the solution\n",
        "  for x in P:\n",
        "    if satisfy(x):\n",
        "      return x\n",
        "\n",
        "  # otherwise go for the loop\n",
        "  for i in range(maxSteps):\n",
        "\n",
        "    P_new=[]\n",
        "\n",
        "    for x in P:\n",
        "      x_new = singleFlip (x) # now apply the action to get a new solution from the neighborhood\n",
        "      if satisfy(x_new):\n",
        "        return [x_new,x_axis,y_axis]\n",
        "      if fitness(x_new) <= fitness(x):\n",
        "        #x = x_new  # otherwise x_new is your new solution\n",
        "        P_new.append(x_new)\n",
        "      else:\n",
        "        P_new.append(x)\n",
        "\n",
        "    P = P_new\n",
        "\n",
        "    #P.sort(key=fitness)\n",
        "    x_axis.append(i)\n",
        "    y_axis.append(fitness(P[0]))\n",
        "\n",
        "  # if it is here that means no solutions were found\n",
        "  return [None,x_axis,y_axis]\n"
      ],
      "execution_count": null,
      "outputs": []
    },
    {
      "cell_type": "code",
      "metadata": {
        "id": "V4A1qDqLcNBK",
        "colab": {
          "base_uri": "https://localhost:8080/",
          "height": 708
        },
        "outputId": "e1d5e7f7-4cfe-4a40-fd11-5b2d85f7b4e7"
      },
      "source": [
        "x,x_axis,y_axis= PopulationHillDescent(15,5000,100)\n",
        "plt.plot(x_axis,y_axis)\n",
        "plt.show()\n",
        "printSolution(x)\n",
        "print(len(x_axis))"
      ],
      "execution_count": null,
      "outputs": [
        {
          "output_type": "display_data",
          "data": {
            "text/plain": [
              "<Figure size 640x480 with 1 Axes>"
            ],
            "image/png": "[encoded data removed]"
          },
          "metadata": {}
        },
        {
          "output_type": "stream",
          "name": "stdout",
          "text": [
            "0 0 0 0 0 0 0 0 Q 0 0 0 0 0 0 \n",
            "0 0 0 Q 0 0 0 0 0 0 0 0 0 0 0 \n",
            "0 0 0 0 0 Q 0 0 0 0 0 0 0 0 0 \n",
            "0 0 0 0 0 0 0 Q 0 0 0 0 0 0 0 \n",
            "0 0 0 0 0 0 0 0 0 0 Q 0 0 0 0 \n",
            "0 0 0 0 0 0 0 0 0 0 0 0 0 0 Q \n",
            "Q 0 0 0 0 0 0 0 0 0 0 0 0 0 0 \n",
            "0 0 0 0 Q 0 0 0 0 0 0 0 0 0 0 \n",
            "0 0 0 0 0 0 0 0 0 0 0 0 0 Q 0 \n",
            "0 0 0 0 0 0 0 0 0 Q 0 0 0 0 0 \n",
            "0 0 0 0 0 0 Q 0 0 0 0 0 0 0 0 \n",
            "0 Q 0 0 0 0 0 0 0 0 0 0 0 0 0 \n",
            "0 0 0 0 0 0 0 0 0 0 0 Q 0 0 0 \n",
            "0 0 Q 0 0 0 0 0 0 0 0 0 0 0 0 \n",
            "0 0 0 0 0 0 0 0 0 0 0 0 Q 0 0 \n",
            "266\n"
          ]
        }
      ]
    },
    {
      "cell_type": "code",
      "metadata": {
        "id": "vCOlec3hcR3X"
      },
      "source": [
        "a = [0,1,2,3,4]"
      ],
      "execution_count": null,
      "outputs": []
    },
    {
      "cell_type": "code",
      "metadata": {
        "id": "9f-PjYq2QpX6",
        "colab": {
          "base_uri": "https://localhost:8080/",
          "height": 34
        },
        "outputId": "a2ab01e1-29ec-40ed-97cd-3cf09e1d2406"
      },
      "source": [
        "random.choices(a,[0.08,0.06,0.06,0.4,0.4],k=3)"
      ],
      "execution_count": null,
      "outputs": [
        {
          "output_type": "execute_result",
          "data": {
            "text/plain": [
              "[4, 4, 4]"
            ]
          },
          "metadata": {
            "tags": []
          },
          "execution_count": 60
        }
      ]
    },
    {
      "cell_type": "code",
      "metadata": {
        "id": "Va5NxWbmQ62O",
        "colab": {
          "base_uri": "https://localhost:8080/",
          "height": 269
        },
        "outputId": "89055b3f-1b1c-4e2d-deb6-824ac421138c"
      },
      "source": [
        "n=8\n",
        "Pheromone = np.ones((n,n))\n",
        "import seaborn as sns\n",
        "ax = sns.heatmap(Pheromone)"
      ],
      "execution_count": null,
      "outputs": [
        {
          "output_type": "display_data",
          "data": {
            "image/png": "[encoded data removed]",
            "text/plain": [
              "<Figure size 432x288 with 2 Axes>"
            ]
          },
          "metadata": {
            "tags": [],
            "needs_background": "light"
          }
        }
      ]
    },
    {
      "cell_type": "code",
      "metadata": {
        "id": "_B6JH-UJZ2js",
        "colab": {
          "base_uri": "https://localhost:8080/",
          "height": 347
        },
        "outputId": "71675fad-fa1f-4d55-e024-28cb95b5db54"
      },
      "source": [
        "maxSteps = 10000\n",
        "numAnts = 100\n",
        "rho = 0.05\n",
        "Q = 0.01\n",
        "found = False\n",
        "for i in range(maxSteps): # outer loop decides how many iterations\n",
        "  # run all ants\n",
        "  S = []\n",
        "  for j in range(numAnts): # for each ant\n",
        "    x = np.zeros(n)\n",
        "    for k in range(n):\n",
        "      x[k]=random.choices(range(n),Pheromone[k,:])[0]\n",
        "    # if we update pheromone here, then the next ant will get the updated pheromone\n",
        "    S.append(x) # append all the solutions found by ants into an array\n",
        "  Pheromone = (1-rho)* Pheromone\n",
        "  # now use S to update the pheromone\n",
        "  # now suppose we decide all ants will update the pheromone\n",
        "  for x in S:\n",
        "    L = fitness(x)\n",
        "    if L == 0:\n",
        "      print(x)\n",
        "      print(i)\n",
        "      found = True\n",
        "      break\n",
        "    # now update\n",
        "    for k in range(n):\n",
        "      Pheromone[k,int(x[k])] += Q / L\n",
        "\n",
        "  if found == True:\n",
        "    break\n",
        "\n",
        "ax = sns.heatmap(Pheromone)"
      ],
      "execution_count": null,
      "outputs": [
        {
          "output_type": "error",
          "ename": "KeyboardInterrupt",
          "evalue": "ignored",
          "traceback": [
            "\u001b[0;31m---------------------------------------------------------------------------\u001b[0m",
            "\u001b[0;31mKeyboardInterrupt\u001b[0m                         Traceback (most recent call last)",
            "\u001b[0;32m<ipython-input-111-adaeeb976e5b>\u001b[0m in \u001b[0;36m<module>\u001b[0;34m()\u001b[0m\n\u001b[1;32m     10\u001b[0m     \u001b[0mx\u001b[0m \u001b[0;34m=\u001b[0m \u001b[0mnp\u001b[0m\u001b[0;34m.\u001b[0m\u001b[0mzeros\u001b[0m\u001b[0;34m(\u001b[0m\u001b[0mn\u001b[0m\u001b[0;34m)\u001b[0m\u001b[0;34m\u001b[0m\u001b[0;34m\u001b[0m\u001b[0m\n\u001b[1;32m     11\u001b[0m     \u001b[0;32mfor\u001b[0m \u001b[0mk\u001b[0m \u001b[0;32min\u001b[0m \u001b[0mrange\u001b[0m\u001b[0;34m(\u001b[0m\u001b[0mn\u001b[0m\u001b[0;34m)\u001b[0m\u001b[0;34m:\u001b[0m\u001b[0;34m\u001b[0m\u001b[0;34m\u001b[0m\u001b[0m\n\u001b[0;32m---> 12\u001b[0;31m       \u001b[0mx\u001b[0m\u001b[0;34m[\u001b[0m\u001b[0mk\u001b[0m\u001b[0;34m]\u001b[0m\u001b[0;34m=\u001b[0m\u001b[0mrandom\u001b[0m\u001b[0;34m.\u001b[0m\u001b[0mchoices\u001b[0m\u001b[0;34m(\u001b[0m\u001b[0mrange\u001b[0m\u001b[0;34m(\u001b[0m\u001b[0mn\u001b[0m\u001b[0;34m)\u001b[0m\u001b[0;34m,\u001b[0m\u001b[0mPheromone\u001b[0m\u001b[0;34m[\u001b[0m\u001b[0mk\u001b[0m\u001b[0;34m,\u001b[0m\u001b[0;34m:\u001b[0m\u001b[0;34m]\u001b[0m\u001b[0;34m)\u001b[0m\u001b[0;34m[\u001b[0m\u001b[0;36m0\u001b[0m\u001b[0;34m]\u001b[0m\u001b[0;34m\u001b[0m\u001b[0;34m\u001b[0m\u001b[0m\n\u001b[0m\u001b[1;32m     13\u001b[0m     \u001b[0;31m# if we update pheromone here, then the next ant will get the updated pheromone\u001b[0m\u001b[0;34m\u001b[0m\u001b[0;34m\u001b[0m\u001b[0;34m\u001b[0m\u001b[0m\n\u001b[1;32m     14\u001b[0m     \u001b[0mS\u001b[0m\u001b[0;34m.\u001b[0m\u001b[0mappend\u001b[0m\u001b[0;34m(\u001b[0m\u001b[0mx\u001b[0m\u001b[0;34m)\u001b[0m \u001b[0;31m# append all the solutions found by ants into an array\u001b[0m\u001b[0;34m\u001b[0m\u001b[0;34m\u001b[0m\u001b[0m\n",
            "\u001b[0;32m/usr/lib/python3.6/random.py\u001b[0m in \u001b[0;36mchoices\u001b[0;34m(self, population, weights, cum_weights, k)\u001b[0m\n\u001b[1;32m    359\u001b[0m         \u001b[0;32mif\u001b[0m \u001b[0mlen\u001b[0m\u001b[0;34m(\u001b[0m\u001b[0mcum_weights\u001b[0m\u001b[0;34m)\u001b[0m \u001b[0;34m!=\u001b[0m \u001b[0mlen\u001b[0m\u001b[0;34m(\u001b[0m\u001b[0mpopulation\u001b[0m\u001b[0;34m)\u001b[0m\u001b[0;34m:\u001b[0m\u001b[0;34m\u001b[0m\u001b[0;34m\u001b[0m\u001b[0m\n\u001b[1;32m    360\u001b[0m             \u001b[0;32mraise\u001b[0m \u001b[0mValueError\u001b[0m\u001b[0;34m(\u001b[0m\u001b[0;34m'The number of weights does not match the population'\u001b[0m\u001b[0;34m)\u001b[0m\u001b[0;34m\u001b[0m\u001b[0;34m\u001b[0m\u001b[0m\n\u001b[0;32m--> 361\u001b[0;31m         \u001b[0mbisect\u001b[0m \u001b[0;34m=\u001b[0m \u001b[0m_bisect\u001b[0m\u001b[0;34m.\u001b[0m\u001b[0mbisect\u001b[0m\u001b[0;34m\u001b[0m\u001b[0;34m\u001b[0m\u001b[0m\n\u001b[0m\u001b[1;32m    362\u001b[0m         \u001b[0mtotal\u001b[0m \u001b[0;34m=\u001b[0m \u001b[0mcum_weights\u001b[0m\u001b[0;34m[\u001b[0m\u001b[0;34m-\u001b[0m\u001b[0;36m1\u001b[0m\u001b[0;34m]\u001b[0m\u001b[0;34m\u001b[0m\u001b[0;34m\u001b[0m\u001b[0m\n\u001b[1;32m    363\u001b[0m         \u001b[0mhi\u001b[0m \u001b[0;34m=\u001b[0m \u001b[0mlen\u001b[0m\u001b[0;34m(\u001b[0m\u001b[0mcum_weights\u001b[0m\u001b[0;34m)\u001b[0m \u001b[0;34m-\u001b[0m \u001b[0;36m1\u001b[0m\u001b[0;34m\u001b[0m\u001b[0;34m\u001b[0m\u001b[0m\n",
            "\u001b[0;31mKeyboardInterrupt\u001b[0m: "
          ]
        }
      ]
    },
    {
      "cell_type": "code",
      "metadata": {
        "id": "gDgnJhAQZ3-D",
        "colab": {
          "base_uri": "https://localhost:8080/",
          "height": 252
        },
        "outputId": "e0639610-1b03-4f66-ce1d-e10fe294836d"
      },
      "source": [
        "Pheromone"
      ],
      "execution_count": null,
      "outputs": [
        {
          "output_type": "execute_result",
          "data": {
            "text/plain": [
              "array([[0.14516628, 0.61661805, 0.20683241, 0.21489088, 0.09445672,\n",
              "        0.48064862, 0.23730168],\n",
              "       [0.05913742, 0.71528137, 0.26185243, 0.52929925, 0.13447902,\n",
              "        0.13640145, 0.15946371],\n",
              "       [0.07382345, 0.2039542 , 0.15705576, 0.07997629, 0.05784206,\n",
              "        0.15528721, 1.26797568],\n",
              "       [0.61144207, 0.09398837, 0.13832241, 0.13164789, 0.2586406 ,\n",
              "        0.13461768, 0.62725563],\n",
              "       [0.84976338, 0.14395796, 0.12862874, 0.34879921, 0.08972819,\n",
              "        0.25819786, 0.17683931],\n",
              "       [0.50951805, 0.30555646, 0.35411452, 0.16928586, 0.21951737,\n",
              "        0.20931509, 0.2286073 ],\n",
              "       [0.2886746 , 0.13999901, 0.0715937 , 0.09541238, 0.88959963,\n",
              "        0.41511035, 0.09552498]])"
            ]
          },
          "metadata": {
            "tags": []
          },
          "execution_count": 103
        }
      ]
    },
    {
      "cell_type": "code",
      "metadata": {
        "id": "CPiQ5MUNcrCl"
      },
      "source": [],
      "execution_count": null,
      "outputs": []
    }
  ]
}